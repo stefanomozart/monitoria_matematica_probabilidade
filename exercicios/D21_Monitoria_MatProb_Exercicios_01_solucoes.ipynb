{
  "nbformat": 4,
  "nbformat_minor": 0,
  "metadata": {
    "colab": {
      "name": "D21_Monitoria_MatProb_Exercicios_01_solucoes",
      "provenance": [],
      "collapsed_sections": []
    },
    "kernelspec": {
      "name": "python3",
      "display_name": "Python 3"
    },
    "language_info": {
      "name": "python"
    }
  },
  "cells": [
    {
      "cell_type": "markdown",
      "metadata": {
        "id": "2tdhxTNah3s2"
      },
      "source": [
        "# D21 - Monitoria em Matemática e Probabilidade\n",
        "## Aula 01 - Teoria de Conjuntos\n",
        "\n",
        "**Professor: Stefano Mozart**"
      ]
    },
    {
      "cell_type": "code",
      "metadata": {
        "id": "RZpmIsu_icpo"
      },
      "source": [
        "#@title Execute esta célula antes de iniciar a resolução dos exercícios\n",
        "#{display-mode: \"form\"}\n",
        "import sys\n",
        "\n",
        "# Valores de teste para nossas expressões falseáveis\n",
        "X = {1, 2, 3, 4, 5, 6, 7, 8, 9, 10}\n",
        "Y = {2, 4, 6, 8, 10, 12, 14, 16, 18}\n",
        "Z = {1, 3, 9, 27, 31}\n",
        "U = {i for i in range(0, 50)}\n",
        "\n",
        "def validate(func, test, input, output):\n",
        "  output = output if output != None else [True for e in input]\n",
        "  \n",
        "  res = True\n",
        "  for i, o in zip(input, output):\n",
        "    j = func(*i)\n",
        "    if test(i, j) != o:\n",
        "      res = False\n",
        "      print(f'Resultado diferente do esperado para a entrada {i}.\\n')\n",
        "      print(test(i, j), o)\n",
        "  if res:\n",
        "    print(\"Parabéns\")"
      ],
      "execution_count": 1,
      "outputs": []
    },
    {
      "cell_type": "markdown",
      "metadata": {
        "id": "KOfrX8uAn_sO"
      },
      "source": [
        "### Complemento: $\\bar{A}$"
      ]
    },
    {
      "cell_type": "markdown",
      "metadata": {
        "id": "b08D7gIUoGKd"
      },
      "source": [
        "**Exercício 01**: \n",
        "\n",
        "Escreva uma função retorne o complemento de um conjunto $A$. \n",
        "\n",
        "- Dica: considere como universo o conjunto $U$, definido acima.\n",
        "\n"
      ]
    },
    {
      "cell_type": "code",
      "metadata": {
        "id": "KW3ecqa9oV3O"
      },
      "source": [
        "def complemento(A):\n",
        "  # escreva sua solução aqui\n",
        "  # return {e for e in U if e not in A}\n",
        "  return U-set(A)"
      ],
      "execution_count": 2,
      "outputs": []
    },
    {
      "cell_type": "code",
      "metadata": {
        "id": "1CN8rSJnodxI"
      },
      "source": [
        "# Utilize este espaço para testar sua solução\n"
      ],
      "execution_count": 3,
      "outputs": []
    },
    {
      "cell_type": "code",
      "metadata": {
        "colab": {
          "base_uri": "https://localhost:8080/"
        },
        "id": "AbI99WCCFnF0",
        "outputId": "671e7eec-651b-4cb8-c664-1c528dd92e98"
      },
      "source": [
        "# Validação\n",
        "entradas = [[X], [Y], [Z]]\n",
        "saidas = [\n",
        "  {0, 11, 12, 13, 14, 15, 16, 17, 18, 19, 20, 21, 22, 23, 24, 25, 26, 27, 28, 29, 30, 31, 32, 33, 34, 35, 36, 37, 38, 39, 40, 41, 42, 43, 44, 45, 46, 47, 48, 49},\n",
        "  {0, 1, 3, 5, 7, 9, 11, 13, 15, 17, 19, 20, 21, 22, 23, 24, 25, 26, 27, 28, 29, 30, 31, 32, 33, 34, 35, 36, 37, 38, 39, 40, 41, 42, 43, 44, 45, 46, 47, 48, 49},\n",
        "  {0, 2, 4, 5, 6, 7, 8, 10, 11, 12, 13, 14, 15, 16, 17, 18, 19, 20, 21, 22, 23, 24, 25, 26, 28, 29, 30, 32, 33, 34, 35, 36, 37, 38, 39, 40, 41, 42, 43, 44, 45, 46, 47, 48, 49},\n",
        "]\n",
        "validate(complemento, lambda x, y: y, entradas, saidas)"
      ],
      "execution_count": 4,
      "outputs": [
        {
          "output_type": "stream",
          "text": [
            "Parabéns\n"
          ],
          "name": "stdout"
        }
      ]
    },
    {
      "cell_type": "markdown",
      "metadata": {
        "id": "IdbnVmy1p0XV"
      },
      "source": [
        "**Exercício 02:**\n",
        "\n",
        "Escreva uma função que receba dois conjuntos ($A, B$) como argumentos e retorne o valor `True`, caso o segundo ($B$) seja o complemento do primeiro ($A$).\n",
        "\n",
        "- Dica: considere como universo o conjunto $U$, definido acima."
      ]
    },
    {
      "cell_type": "code",
      "metadata": {
        "id": "Hoe6bsEdqSc5"
      },
      "source": [
        "def is_complemento(A, B):\n",
        "  # escreva sua solução aqui\n",
        "  return (B == complemento(A))\n"
      ],
      "execution_count": 5,
      "outputs": []
    },
    {
      "cell_type": "code",
      "metadata": {
        "id": "KI5YF2tkrJJc"
      },
      "source": [
        "# Utilize este espaço para testar sua solução\n"
      ],
      "execution_count": 6,
      "outputs": []
    },
    {
      "cell_type": "code",
      "metadata": {
        "colab": {
          "base_uri": "https://localhost:8080/"
        },
        "id": "SY_C8qjiMyS3",
        "outputId": "57c68e2a-8572-48ed-d402-e8229993e8b8"
      },
      "source": [
        "# Validação\n",
        "entradas = [\n",
        "[X, {0, 11, 12, 13, 14, 15, 16, 17, 18, 19, 20, 21, 22, 23, 24, 25, 26, 27, 28, 29, 30, 31, 32, 33, 34, 35, 36, 37, 38, 39, 40, 41, 42, 43, 44, 45, 46, 47, 48, 49}],\n",
        "[Y, {0, 1, 3, 5, 7, 9, 11, 13, 15, 17, 19, 20, 21, 22, 23, 24, 25, 26, 27, 28, 29, 30, 31, 32, 33, 34, 35, 36, 37, 38, 39, 40, 41, 42, 43, 44, 45, 46, 47, 48, 49}],\n",
        "[Z, {0, 2, 4, 5, 6, 7, 8, 10, 11, 12, 13, 14, 15, 16, 17, 18, 19, 20, 21, 22, 23, 24, 25, 26, 28, 29, 30, 32, 33, 34, 35, 36, 37, 38, 39, 40, 41, 42, 43, 44, 45, 46, 47, 48, 49}],\n",
        "[X, U]\n",
        "]\n",
        "saidas = [True, True, True, False]\n",
        "validate(is_complemento, lambda x, y: y, entradas, saidas)"
      ],
      "execution_count": 7,
      "outputs": [
        {
          "output_type": "stream",
          "text": [
            "Parabéns\n"
          ],
          "name": "stdout"
        }
      ]
    },
    {
      "cell_type": "markdown",
      "metadata": {
        "id": "vVNDgn2mrPAS"
      },
      "source": [
        "### Diferença (complemento relativo): $X - Y$\n",
        "\n"
      ]
    },
    {
      "cell_type": "markdown",
      "metadata": {
        "id": "gCIpHYOtrVVn"
      },
      "source": [
        "**Exercício 03:**\n",
        "\n",
        "Escreva uma função que retorne a diferença entre dois conjuntos ($A - B$):"
      ]
    },
    {
      "cell_type": "code",
      "metadata": {
        "id": "gsACAS90rkXw"
      },
      "source": [
        "def diferenca(A, B):\n",
        "  # escreva sua solução aqui\n",
        "  # return {e for e in A if e not in B}\n",
        "  return set(A)-set(B) \n",
        "  "
      ],
      "execution_count": 8,
      "outputs": []
    },
    {
      "cell_type": "code",
      "metadata": {
        "id": "PcXURNB1Rm3C"
      },
      "source": [
        "# Utilize este espaço para testar sua solução\n"
      ],
      "execution_count": 9,
      "outputs": []
    },
    {
      "cell_type": "code",
      "metadata": {
        "colab": {
          "base_uri": "https://localhost:8080/"
        },
        "id": "8zsg4_0gRnJt",
        "outputId": "b1aa9b0d-81f1-43a6-8bd9-7749f496a995"
      },
      "source": [
        "# Vaidação\n",
        "entradas = [[Z, X], [Z, Y], [X, Y], [U, set([0])]]\n",
        "saidas = [{31, 27}, {1, 3, 9, 27, 31}, {1, 3, 5, 7, 9}, set(list(U)[1:])]\n",
        "\n",
        "validate(diferenca, lambda x, y: y, entradas, saidas)"
      ],
      "execution_count": 10,
      "outputs": [
        {
          "output_type": "stream",
          "text": [
            "Parabéns\n"
          ],
          "name": "stdout"
        }
      ]
    },
    {
      "cell_type": "markdown",
      "metadata": {
        "id": "E7RXqdROrxMq"
      },
      "source": [
        "**Exercício 04:**\n",
        "\n",
        "Crie uma função que receba três conjuntos ($A$, $B$, $C$) como argumentos e retorne o valor `True`, caso o primeiro argumento ($A$) seja a diferença entre o segundo e o terceiro ($B-C$)."
      ]
    },
    {
      "cell_type": "code",
      "metadata": {
        "id": "vDiSGquFs_Ek"
      },
      "source": [
        "def is_diferenca(A, B, C):\n",
        "  # escreva sua solução aqui\n",
        "  return A == diferenca(B, C)\n",
        "  "
      ],
      "execution_count": 11,
      "outputs": []
    },
    {
      "cell_type": "code",
      "metadata": {
        "id": "5GFQY_bWtDSN"
      },
      "source": [
        "# Utilize este espaço para testar sua solução\n"
      ],
      "execution_count": 12,
      "outputs": []
    },
    {
      "cell_type": "code",
      "metadata": {
        "colab": {
          "base_uri": "https://localhost:8080/"
        },
        "id": "z2XCSW52HGHM",
        "outputId": "ff30917d-8715-41af-f51d-99f7a184649a"
      },
      "source": [
        "# validacao\n",
        "entradas = [[{31, 27}, Z, X], [{1, 3, 9, 31, 27}, Z, Y], [{1, 3, 5, 7, 9}, X, Y], [set(list(U)[1:]), U, set([0])]]\n",
        "\n",
        "validate(is_diferenca, lambda x, y: y, entradas, None)"
      ],
      "execution_count": 13,
      "outputs": [
        {
          "output_type": "stream",
          "text": [
            "Parabéns\n"
          ],
          "name": "stdout"
        }
      ]
    },
    {
      "cell_type": "markdown",
      "metadata": {
        "id": "xiVDJcSmT7o_"
      },
      "source": [
        "## União: $X \\cup Y$"
      ]
    },
    {
      "cell_type": "markdown",
      "metadata": {
        "id": "Sa7XLR5EVkvr"
      },
      "source": [
        "**Exercício 05**:\n",
        "Escreva uma função que retorne a união entre dois conjuntos:\n",
        "\n",
        "- Dica: lembre-se que, na união, não há elementos repetidos"
      ]
    },
    {
      "cell_type": "code",
      "metadata": {
        "id": "tcJWoJqUVL0c"
      },
      "source": [
        "def uniao(A, B):\n",
        "  # escreva sua solução aqui\n",
        "  # return {e for S in [A, B] for e in S}\n",
        "  return A.union(B)\n",
        "  "
      ],
      "execution_count": 14,
      "outputs": []
    },
    {
      "cell_type": "code",
      "metadata": {
        "id": "NjWRsq37V_fr"
      },
      "source": [
        "# Utilize este espaço para testar sua solução\n"
      ],
      "execution_count": 15,
      "outputs": []
    },
    {
      "cell_type": "code",
      "metadata": {
        "colab": {
          "base_uri": "https://localhost:8080/"
        },
        "id": "PADNhygGWTti",
        "outputId": "465151ab-cd07-43f8-f919-15d392c113fc"
      },
      "source": [
        "# Validação\n",
        "entradas = [[X, Z], [Z, Y], [X, Y], [X, U]]\n",
        "saidas = [\n",
        "  {1, 2, 3, 4, 5, 6, 7, 8, 9, 10, 31, 27},\n",
        "  {1, 2, 3, 4, 6, 8, 9, 10, 12, 14, 16, 31, 18, 27},\n",
        "  {1, 2, 3, 4, 5, 6, 7, 8, 9, 10, 12, 14, 16, 18},\n",
        "  U\n",
        "]\n",
        "\n",
        "validate(uniao, lambda x, y: y, entradas, saidas)"
      ],
      "execution_count": 16,
      "outputs": [
        {
          "output_type": "stream",
          "text": [
            "Parabéns\n"
          ],
          "name": "stdout"
        }
      ]
    },
    {
      "cell_type": "markdown",
      "metadata": {
        "id": "5r7zIJiTXDeB"
      },
      "source": [
        "**Exercício 06:**\n",
        "Escreva uma função que retorne a união de todos os elementos de uma lista de conjuntos"
      ]
    },
    {
      "cell_type": "code",
      "metadata": {
        "id": "42J71Mq3YO6d"
      },
      "source": [
        "def uniao_elementos(CC):\n",
        "  # escreva sua solução aqui\n",
        "  return {e for S in CC for e in S}"
      ],
      "execution_count": 17,
      "outputs": []
    },
    {
      "cell_type": "code",
      "metadata": {
        "id": "u8luk16pYgN9"
      },
      "source": [
        "# Utilize este espaço para testar sua solução\n"
      ],
      "execution_count": 18,
      "outputs": []
    },
    {
      "cell_type": "code",
      "metadata": {
        "colab": {
          "base_uri": "https://localhost:8080/"
        },
        "id": "eOcr59ZtYnU1",
        "outputId": "eeef7f23-7c72-44ae-af36-09a6d6472212"
      },
      "source": [
        "# Validação\n",
        "entradas = [[[X, Z]], [[Z, Y, U]], [[X, Y]], [[X, Y, Z, U]]]\n",
        "saidas = [{1, 2, 3, 4, 5, 6, 7, 8, 9, 10, 31, 27}, U, {1, 2, 3, 4, 5, 6, 7, 8, 9, 10, 12, 14, 16, 18}, U]\n",
        "\n",
        "validate(uniao_elementos, lambda x, y: y, entradas, saidas)"
      ],
      "execution_count": 19,
      "outputs": [
        {
          "output_type": "stream",
          "text": [
            "Parabéns\n"
          ],
          "name": "stdout"
        }
      ]
    },
    {
      "cell_type": "markdown",
      "metadata": {
        "id": "qBuBv9hsbKGY"
      },
      "source": [
        "## Intersecção: $X \\cap Y$"
      ]
    },
    {
      "cell_type": "markdown",
      "metadata": {
        "id": "Z2XWGPesbJ1g"
      },
      "source": [
        "**Exercício 07:**\n",
        "Escreva uma função que retorne a intersecção entre dois conjuntos"
      ]
    },
    {
      "cell_type": "code",
      "metadata": {
        "id": "V0zI1uvzZSuk"
      },
      "source": [
        "def interseccao(A, B):\n",
        "  # escreva sua solução aqui\n",
        "  # return {e for e in A if e in B}\n",
        "  return A.intersection(B)"
      ],
      "execution_count": 20,
      "outputs": []
    },
    {
      "cell_type": "code",
      "metadata": {
        "id": "IcDPmbyZbpl_"
      },
      "source": [
        "# Utilize este espaço para testar sua solução\n"
      ],
      "execution_count": 21,
      "outputs": []
    },
    {
      "cell_type": "code",
      "metadata": {
        "colab": {
          "base_uri": "https://localhost:8080/"
        },
        "id": "HMSeLxk6br3P",
        "outputId": "cf478a56-d981-4fda-e89f-81fd0e7f1d6e"
      },
      "source": [
        "# Validação\n",
        "entradas = [[X, Y], [Z, X], [Y, Y], [X, U]]\n",
        "saidas = [{2, 4, 6, 8, 10}, {1, 3, 9}, {2, 4, 6, 8, 10, 12, 14, 16, 18}, X]\n",
        "\n",
        "validate(interseccao, lambda x, y: y, entradas, saidas)"
      ],
      "execution_count": 22,
      "outputs": [
        {
          "output_type": "stream",
          "text": [
            "Parabéns\n"
          ],
          "name": "stdout"
        }
      ]
    },
    {
      "cell_type": "markdown",
      "metadata": {
        "id": "V2_GDKOQgQmn"
      },
      "source": [
        "**Exercício 08:**\n",
        "Escreva uma função que receba como argumentos três conjuntos ($A, B, C$) e retorne o valor `True` caso o primeiro ($A$) seja a intersecção entre o segundo e o terceiro ($B \\cap C$):"
      ]
    },
    {
      "cell_type": "code",
      "metadata": {
        "id": "ZYjrZT3Xf9tL"
      },
      "source": [
        "def is_interseccao(A, B, C):\n",
        "  # escreva sua solução aqui\n",
        "  return A == interseccao(B, C)"
      ],
      "execution_count": 23,
      "outputs": []
    },
    {
      "cell_type": "code",
      "metadata": {
        "id": "peZVNVg9gz4v"
      },
      "source": [
        "# Utilize este espaço para testar sua solução\n"
      ],
      "execution_count": 24,
      "outputs": []
    },
    {
      "cell_type": "code",
      "metadata": {
        "id": "U3wWrL2-hGiF",
        "colab": {
          "base_uri": "https://localhost:8080/"
        },
        "outputId": "9dad23c5-dd68-4394-eabf-18f1bc8446f0"
      },
      "source": [
        "# validação\n",
        "entradas = [[{2, 4, 6, 8, 10}, X, Y], [{1, 3, 9}, Z, X], [{2, 4, 6, 8, 10, 12, 14, 16, 18}, Y, Y], [X, X, U]]\n",
        "\n",
        "validate(is_interseccao, lambda x, y: y, entradas, None)"
      ],
      "execution_count": 25,
      "outputs": [
        {
          "output_type": "stream",
          "text": [
            "Parabéns\n"
          ],
          "name": "stdout"
        }
      ]
    },
    {
      "cell_type": "markdown",
      "metadata": {
        "id": "_KgOkRZeg8jG"
      },
      "source": [
        "## Diferença Simétrica: $X \\Delta Y$"
      ]
    },
    {
      "cell_type": "markdown",
      "metadata": {
        "id": "U5iGFtQ8g99t"
      },
      "source": [
        "Exercício 09: Escreva uma função que retorne a diferença simétrica e dois conjuntos"
      ]
    },
    {
      "cell_type": "code",
      "metadata": {
        "id": "H2SPl-W8g7f8"
      },
      "source": [
        "def diferenca_simetrica(A, B):\n",
        "  # escreva sua solução aqui\n",
        "  return A.symmetric_difference(B)"
      ],
      "execution_count": 26,
      "outputs": []
    },
    {
      "cell_type": "code",
      "metadata": {
        "id": "HhMPBfNekOVI"
      },
      "source": [
        "# Utilize este espaço para testar sua solução\n"
      ],
      "execution_count": 27,
      "outputs": []
    },
    {
      "cell_type": "code",
      "metadata": {
        "colab": {
          "base_uri": "https://localhost:8080/"
        },
        "id": "-lMzGSagkQIG",
        "outputId": "0dedfa80-f1dc-43ac-90ca-968f9fc9b871"
      },
      "source": [
        "# Validação\n",
        "entradas = [[X, Y], [Z, X], [Y, Z], [X, X]]\n",
        "saidas = [{1, 3, 5, 7, 9, 12, 14, 16, 18}, {2, 4, 5, 6, 7, 8, 10, 27, 31}, {1, 2, 3, 4, 6, 8, 9, 10, 12, 14, 16, 18, 27, 31}, set()]\n",
        "\n",
        "validate(diferenca_simetrica, lambda x, y: y, entradas, saidas)"
      ],
      "execution_count": 28,
      "outputs": [
        {
          "output_type": "stream",
          "text": [
            "Parabéns\n"
          ],
          "name": "stdout"
        }
      ]
    },
    {
      "cell_type": "markdown",
      "metadata": {
        "id": "Meh5sclrlQuE"
      },
      "source": [
        "## Inclusão: $X \\subset Y$"
      ]
    },
    {
      "cell_type": "markdown",
      "metadata": {
        "id": "bXgrU-kNlfaM"
      },
      "source": [
        "**Exercício 10:**\n",
        "Escreva uma função que receba como argumentos dois conjuntos ($A, B$) retorne o valor `True` caso $A \\subset B$:"
      ]
    },
    {
      "cell_type": "code",
      "metadata": {
        "id": "ppS7AYI3k7iG"
      },
      "source": [
        "def is_subconjunto(A, B):\n",
        "  # escreva sua solução aqui\n",
        "  return A.issubset(B)"
      ],
      "execution_count": 29,
      "outputs": []
    },
    {
      "cell_type": "code",
      "metadata": {
        "id": "-pjxEmHArRUx"
      },
      "source": [
        "# Utilize este espaço para testar sua solução\n"
      ],
      "execution_count": 30,
      "outputs": []
    },
    {
      "cell_type": "code",
      "metadata": {
        "colab": {
          "base_uri": "https://localhost:8080/"
        },
        "id": "co6cYJV6rZDx",
        "outputId": "d1e762b4-90a9-462b-845a-c1a8fbfcbe81"
      },
      "source": [
        "# Validação\n",
        "entradas = [[X, U], [{37, 32, 13}, U], [set(), U]]\n",
        "\n",
        "validate(is_subconjunto, lambda x, y: y, entradas, None)"
      ],
      "execution_count": 31,
      "outputs": [
        {
          "output_type": "stream",
          "text": [
            "Parabéns\n"
          ],
          "name": "stdout"
        }
      ]
    }
  ]
}