{
  "nbformat": 4,
  "nbformat_minor": 0,
  "metadata": {
    "colab": {
      "name": "D21_Monitoria_MatProb_Exercicios_02_solucoes",
      "provenance": [],
      "collapsed_sections": [
        "KOfrX8uAn_sO"
      ]
    },
    "kernelspec": {
      "name": "python3",
      "display_name": "Python 3"
    },
    "language_info": {
      "name": "python"
    }
  },
  "cells": [
    {
      "cell_type": "markdown",
      "metadata": {
        "id": "2tdhxTNah3s2"
      },
      "source": [
        "# D21 - Monitoria em Matemática e Probabilidade\n",
        "## Aula 02 - Conceitos fundamentais\n",
        "\n",
        "**Professor: Stefano Mozart**"
      ]
    },
    {
      "cell_type": "code",
      "metadata": {
        "id": "RZpmIsu_icpo"
      },
      "source": [
        "#@title Execute esta célula antes de iniciar a resolução dos exercícios\n",
        "#{display-mode: \"form\"}\n",
        "import sys\n",
        "\n",
        "def self_reference(f):\n",
        "  f.__defaults__ = f.__defaults__[:-1] + (f,)\n",
        "  return f\n",
        "\n",
        "def validate(func, test, input, output):\n",
        "  res = True\n",
        "  if input == None:    \n",
        "    if not equals(test(func()), output):\n",
        "      res = False\n",
        "      print(f'Resultado diferente do esperado.\\n')\n",
        "  else:\n",
        "    output = output if output != None else [True for e in input]\n",
        "    for i, o in zip(input, output):\n",
        "      j = func(*i)\n",
        "      if not equals(test(i, j), o):\n",
        "        res = False\n",
        "        print(f'Resultado diferente do esperado para a entrada {i}.\\n')\n",
        "  \n",
        "  if res:\n",
        "    print(\"Parabéns\")\n",
        "\n",
        "@self_reference\n",
        "def teste(x, y, self=None):\n",
        "   if y not in self.__C:\n",
        "     return False\n",
        "   if y in self.__I:\n",
        "     return False\n",
        "   self.__I.append(y)\n",
        "   return True\n",
        "\n",
        "def equals(a, b):\n",
        "  if type(a) == 'pandas.core.frame.DataFrame':    \n",
        "    return a.eq(b)  \n",
        "  return a == b\n"
      ],
      "execution_count": null,
      "outputs": []
    },
    {
      "cell_type": "markdown",
      "metadata": {
        "id": "KOfrX8uAn_sO"
      },
      "source": [
        "### Relações: $R \\subseteq {A \\times B}$"
      ]
    },
    {
      "cell_type": "markdown",
      "metadata": {
        "id": "b08D7gIUoGKd"
      },
      "source": [
        "**Exercício 01**: \n",
        "\n",
        "Escreva uma função que retorne o produto cartesiano entre dois conjuntos: $P = {A \\times B}$\n",
        "- Observação: a relação será representada em sua forma extensa, como um conjunto de tuplas: $P=\\{(a,b) : a \\in A \\land b \\in B\\}$\n",
        "- Exemplo: $\\{1,2\\} \\times \\{1\\} = \\{(1,1), (2,1)\\}$"
      ]
    },
    {
      "cell_type": "code",
      "metadata": {
        "id": "KW3ecqa9oV3O"
      },
      "source": [
        "def cartesiano(A, B):\n",
        "  # escreva sua solução aqui\n",
        "  return {(a, b) for a in A for b in B}"
      ],
      "execution_count": null,
      "outputs": []
    },
    {
      "cell_type": "code",
      "metadata": {
        "id": "1CN8rSJnodxI",
        "colab": {
          "base_uri": "https://localhost:8080/"
        },
        "outputId": "45fdad6a-9718-44dc-8aea-c7df4e5d5e8b"
      },
      "source": [
        "# Utilize este espaço para testar sua solução\n",
        "cartesiano({1,2,3,4}, {1,2,3,4,5})"
      ],
      "execution_count": null,
      "outputs": [
        {
          "output_type": "execute_result",
          "data": {
            "text/plain": [
              "{(1, 1),\n",
              " (1, 2),\n",
              " (1, 3),\n",
              " (1, 4),\n",
              " (1, 5),\n",
              " (2, 1),\n",
              " (2, 2),\n",
              " (2, 3),\n",
              " (2, 4),\n",
              " (2, 5),\n",
              " (3, 1),\n",
              " (3, 2),\n",
              " (3, 3),\n",
              " (3, 4),\n",
              " (3, 5),\n",
              " (4, 1),\n",
              " (4, 2),\n",
              " (4, 3),\n",
              " (4, 4),\n",
              " (4, 5)}"
            ]
          },
          "metadata": {
            "tags": []
          },
          "execution_count": 17
        }
      ]
    },
    {
      "cell_type": "code",
      "metadata": {
        "id": "AbI99WCCFnF0",
        "colab": {
          "base_uri": "https://localhost:8080/"
        },
        "outputId": "505af303-0b6b-4ff4-b4cd-11bad531c007"
      },
      "source": [
        "# Validação\n",
        "entradas = [[{1,2,3,4}, {2,3,4,5}], [[1,2,3,4], [1,2,3,4,5]]]\n",
        "saidas = [\n",
        "  {(1, 2), (1, 3), (1, 4), (1, 5), (2, 2), (2, 3), (2, 4), (2, 5), (3, 2), (3, 3), (3, 4), (3, 5), (4, 2), (4, 3), (4, 4), (4, 5)},\n",
        "  {(1, 1), (1, 2), (1, 3), (1, 4), (1, 5), (2, 1), (2, 2), (2, 3), (2, 4), (2, 5), (3, 1), (3, 2), (3, 3), (3, 4), (3, 5), (4, 1), (4, 2), (4, 3), (4, 4), (4, 5)}\n",
        "]\n",
        "validate(cartesiano, lambda x, y: y, entradas, saidas)"
      ],
      "execution_count": null,
      "outputs": [
        {
          "output_type": "stream",
          "text": [
            "Parabéns\n"
          ],
          "name": "stdout"
        }
      ]
    },
    {
      "cell_type": "markdown",
      "metadata": {
        "id": "IdbnVmy1p0XV"
      },
      "source": [
        "**Exercício 02**: \n",
        "\n",
        "Escreva uma função que teste se um conjunto $R$ de tuplas representa uma relação entre os conjuntos $A$ e $B$ - isto é, se $R \\subseteq {A \\times B}$.\n",
        "- Observação: a relação será representada em sua forma extensa, como um conjunto de tuplas. ex. $R$={(1,2), (2,3), (3,4)}"
      ]
    },
    {
      "cell_type": "code",
      "metadata": {
        "id": "Hoe6bsEdqSc5"
      },
      "source": [
        "def is_relacao(R, A, B):\n",
        "  # escreva sua solução aqui\n",
        "  for a, b in R:\n",
        "    if a not in A or b not in B:\n",
        "      return False\n",
        "  return True"
      ],
      "execution_count": null,
      "outputs": []
    },
    {
      "cell_type": "code",
      "metadata": {
        "id": "KI5YF2tkrJJc",
        "colab": {
          "base_uri": "https://localhost:8080/"
        },
        "outputId": "41c91689-a238-4804-d22d-2ad2477b7922"
      },
      "source": [
        "# Utilize este espaço para testar sua solução\n",
        "is_relacao({(1,1),(2,1)},{1,2},{1})"
      ],
      "execution_count": null,
      "outputs": [
        {
          "output_type": "execute_result",
          "data": {
            "text/plain": [
              "True"
            ]
          },
          "metadata": {
            "tags": []
          },
          "execution_count": 34
        }
      ]
    },
    {
      "cell_type": "code",
      "metadata": {
        "id": "SY_C8qjiMyS3",
        "colab": {
          "base_uri": "https://localhost:8080/"
        },
        "outputId": "d37c0783-1937-423d-ec57-2ac16ee58da7"
      },
      "source": [
        "# Validação\n",
        "entradas = [\n",
        "  [{(1,2),(2,3),(3,2)}, {1,2,3,4}, {2,3,4,5}],\n",
        "  [[[6,2],[2,3],[3,5]], [1,2,3,4], [2,3,4,5]],\n",
        "  [{(1,2),(2,7),(3,2)}, [1,2,3,4], [2,3,4,5]]\n",
        "]\n",
        "saidas = [True, False, False]\n",
        "validate(is_relacao, lambda x, y: y, entradas, saidas)"
      ],
      "execution_count": null,
      "outputs": [
        {
          "output_type": "stream",
          "text": [
            "Parabéns\n"
          ],
          "name": "stdout"
        }
      ]
    },
    {
      "cell_type": "markdown",
      "metadata": {
        "id": "gCIpHYOtrVVn"
      },
      "source": [
        "**Exercício 03:**\n",
        "\n",
        "Escreva uma função que teste se uma relação $R$ é serial: $(∀a \\in A [∃b \\in B : aRb])$:"
      ]
    },
    {
      "cell_type": "code",
      "metadata": {
        "id": "gsACAS90rkXw"
      },
      "source": [
        "def is_serial(R, A, B):\n",
        "  # escreva sua solução aqui\n",
        "  return is_relacao(R, A, B) and ({a for a, b in R} == set(A))\n",
        "  "
      ],
      "execution_count": null,
      "outputs": []
    },
    {
      "cell_type": "code",
      "metadata": {
        "id": "PcXURNB1Rm3C",
        "colab": {
          "base_uri": "https://localhost:8080/"
        },
        "outputId": "fe1533a1-ab31-46a9-94fb-c7fa6368518a"
      },
      "source": [
        "# Utilize este espaço para testar sua solução\n",
        "is_serial({(1,1),(2,1)},{1,2},{1})"
      ],
      "execution_count": null,
      "outputs": [
        {
          "output_type": "execute_result",
          "data": {
            "text/plain": [
              "True"
            ]
          },
          "metadata": {
            "tags": []
          },
          "execution_count": 35
        }
      ]
    },
    {
      "cell_type": "code",
      "metadata": {
        "id": "8zsg4_0gRnJt"
      },
      "source": [
        "# Vaidação\n",
        "entradas = [\n",
        "  [{(1,2),(2,3),(3,2)}, {1,2,3,4}, {2,3,4,5}],\n",
        "  [[[6,2],[2,3],[3,5]], [1,2,3,4], [2,3,4,5]],\n",
        "  [{(1,2),(2,7),(3,2)}, [1,2,3,4], [2,3,4,5]]\n",
        "]\n",
        "saidas = [True, False, False]\n",
        "\n",
        "validate(is_serial, lambda x, y: y, entradas, saidas)"
      ],
      "execution_count": null,
      "outputs": []
    },
    {
      "cell_type": "markdown",
      "metadata": {
        "id": "E7RXqdROrxMq"
      },
      "source": [
        "**Exercício 04:**\n",
        "\n",
        "Escreva uma função que teste se uma relação $R$ é funcional: $\\forall a \\in A,  \\forall(b_i,b_j) \\in B[(aRb_i \\land aRb_j) \\rightarrow b_i=b_j]$"
      ]
    },
    {
      "cell_type": "code",
      "metadata": {
        "id": "vDiSGquFs_Ek"
      },
      "source": [
        "def is_funcional(R, A, B):\n",
        "  # escreva sua solução aqui\n",
        "  image = [b for a, b in R]\n",
        "  return is_relacao(R, A, B) and len(image) == len(set(image)) \n",
        "  "
      ],
      "execution_count": null,
      "outputs": []
    },
    {
      "cell_type": "code",
      "metadata": {
        "id": "5GFQY_bWtDSN",
        "colab": {
          "base_uri": "https://localhost:8080/"
        },
        "outputId": "a1bbaf02-ff9c-4a80-ac87-9296fb93b719"
      },
      "source": [
        "# Utilize este espaço para testar sua solução\n",
        "is_funcional([[6,2],[2,3],[3,5]], [1,2,3,4], [2,3,4,5])"
      ],
      "execution_count": null,
      "outputs": [
        {
          "output_type": "execute_result",
          "data": {
            "text/plain": [
              "False"
            ]
          },
          "metadata": {
            "tags": []
          },
          "execution_count": 48
        }
      ]
    },
    {
      "cell_type": "code",
      "metadata": {
        "id": "z2XCSW52HGHM",
        "colab": {
          "base_uri": "https://localhost:8080/"
        },
        "outputId": "91043302-7239-45da-f4e3-7077c3a7e89d"
      },
      "source": [
        "# validacao\n",
        "entradas = [\n",
        "  [{(1,2),(2,3),(3,2)}, {1,2,3,4}, {2,3,4,5}],\n",
        "  [[[6,2],[2,3],[3,5]], [1,2,3,4], [2,3,4,5]],\n",
        "  [{(1,2),(2,3),(3,4)}, [1,2,3,4], [2,3,4,5]]\n",
        "]\n",
        "saidas = [False, False, True]\n",
        "validate(is_funcional, lambda x, y: y, entradas, saidas)"
      ],
      "execution_count": null,
      "outputs": [
        {
          "output_type": "stream",
          "text": [
            "Parabéns\n"
          ],
          "name": "stdout"
        }
      ]
    },
    {
      "cell_type": "markdown",
      "metadata": {
        "id": "xiVDJcSmT7o_"
      },
      "source": [
        "## Funções: $f:D\\rightarrow C$"
      ]
    },
    {
      "cell_type": "markdown",
      "metadata": {
        "id": "Sa7XLR5EVkvr"
      },
      "source": [
        "**Exercício 05**:\n",
        "Escreva uma função que teste se uma relação $f$ é uma função:\n",
        "\n",
        "- Dica: lembre-se que funções são relações seriais e funcionais;\n",
        "- A função será representada na forma extensa: $\\{(x,y): y=f(x)\\}$ "
      ]
    },
    {
      "cell_type": "code",
      "metadata": {
        "id": "tcJWoJqUVL0c"
      },
      "source": [
        "def is_funcao(f, A, B):\n",
        "  # escreva sua solução aqui\n",
        "  return is_serial(f, A, B) and is_funcional(f, A, B)"
      ],
      "execution_count": null,
      "outputs": []
    },
    {
      "cell_type": "code",
      "metadata": {
        "id": "NjWRsq37V_fr"
      },
      "source": [
        "# Utilize este espaço para testar sua solução\n"
      ],
      "execution_count": null,
      "outputs": []
    },
    {
      "cell_type": "code",
      "metadata": {
        "id": "PADNhygGWTti"
      },
      "source": [
        "# Validação\n",
        "entradas = [[X, Z], [Z, Y], [X, Y], [X, U]]\n",
        "saidas = [\n",
        "  {1, 2, 3, 4, 5, 6, 7, 8, 9, 10, 31, 27},\n",
        "  {1, 2, 3, 4, 6, 8, 9, 10, 12, 14, 16, 31, 18, 27},\n",
        "  {1, 2, 3, 4, 5, 6, 7, 8, 9, 10, 12, 14, 16, 18},\n",
        "  U\n",
        "]\n",
        "\n",
        "validate(uniao, lambda x, y: y, entradas, saidas)"
      ],
      "execution_count": null,
      "outputs": []
    },
    {
      "cell_type": "markdown",
      "metadata": {
        "id": "5r7zIJiTXDeB"
      },
      "source": [
        "**Exercício 06:**\n",
        "Escreva uma função injetora com domínio = $D = \\{1,..,10\\}$ e contradomínio $C = \\{1,..,20\\}$. Isto é, a função deve retornar um único valor $y \\in C$ para todo valor $x \\in D$."
      ]
    },
    {
      "cell_type": "code",
      "metadata": {
        "id": "42J71Mq3YO6d"
      },
      "source": [
        "def injective(x):\n",
        "  # escreva sua solução aqui\n",
        "  return x+1\n"
      ],
      "execution_count": null,
      "outputs": []
    },
    {
      "cell_type": "code",
      "metadata": {
        "id": "u8luk16pYgN9",
        "colab": {
          "base_uri": "https://localhost:8080/"
        },
        "outputId": "be914a21-7dda-43c1-8578-0ec4b6c90099"
      },
      "source": [
        "# Utilize este espaço para testar sua solução\n",
        "[injective(x) for x in range(1, 11)]"
      ],
      "execution_count": null,
      "outputs": [
        {
          "output_type": "execute_result",
          "data": {
            "text/plain": [
              "[2, 3, 4, 5, 6, 7, 8, 9, 10, 11]"
            ]
          },
          "metadata": {
            "tags": []
          },
          "execution_count": 3
        }
      ]
    },
    {
      "cell_type": "code",
      "metadata": {
        "id": "eOcr59ZtYnU1",
        "colab": {
          "base_uri": "https://localhost:8080/"
        },
        "outputId": "86f004bf-e9c8-4676-c0eb-01cc3b00ac91"
      },
      "source": [
        "# Validação\n",
        "entradas = [[x] for x in range(1, 11)]\n",
        "teste.__I = []\n",
        "teste.__C = [y for y in range(1,20)]\n",
        "validate(injective, teste, entradas, None)"
      ],
      "execution_count": null,
      "outputs": [
        {
          "output_type": "stream",
          "text": [
            "Parabéns\n"
          ],
          "name": "stdout"
        }
      ]
    },
    {
      "cell_type": "markdown",
      "metadata": {
        "id": "Z2XWGPesbJ1g"
      },
      "source": [
        "**Exercício 07:**\n",
        "Escreva uma função bijetora $f:D\\rightarrow C$, com $D = C = \\{1,..,10\\}$:"
      ]
    },
    {
      "cell_type": "code",
      "metadata": {
        "id": "V0zI1uvzZSuk"
      },
      "source": [
        "def bijective(x):\n",
        "  # escreva sua solução aqui\n",
        "  return (x % 10) + 1\n",
        "  "
      ],
      "execution_count": null,
      "outputs": []
    },
    {
      "cell_type": "code",
      "metadata": {
        "id": "IcDPmbyZbpl_",
        "colab": {
          "base_uri": "https://localhost:8080/"
        },
        "outputId": "c44de33e-cd7b-417e-8306-5d8282b1a39d"
      },
      "source": [
        "# Utilize este espaço para testar sua solução\n",
        "[bijective(x) for x in range(1,11)]"
      ],
      "execution_count": null,
      "outputs": [
        {
          "output_type": "execute_result",
          "data": {
            "text/plain": [
              "[2, 3, 4, 5, 6, 7, 8, 9, 10, 1]"
            ]
          },
          "metadata": {
            "tags": []
          },
          "execution_count": 36
        }
      ]
    },
    {
      "cell_type": "code",
      "metadata": {
        "id": "HMSeLxk6br3P"
      },
      "source": [
        "# Validação\n",
        "entradas = [[x] for x in range(1,11)]\n",
        "teste.__I = []\n",
        "teste.__C = {y for y in range(1,11)}\n",
        "\n",
        "validate(interseccao, teste, entradas, None)\n",
        "if set()"
      ],
      "execution_count": null,
      "outputs": []
    },
    {
      "cell_type": "markdown",
      "metadata": {
        "id": "V2_GDKOQgQmn"
      },
      "source": [
        "**Exercício 08:**\n",
        "Escreva uma função que teste se uma função $f$, é injetora com domínio $D$ e contradomínio $C$:\n",
        "\n",
        "- Observação: nesse caso, $f$ é uma função Python que recebe um único argumento $x$ e retorna um resultado $y$"
      ]
    },
    {
      "cell_type": "code",
      "metadata": {
        "id": "ZYjrZT3Xf9tL"
      },
      "source": [
        "def is_injective(f, D, C):\n",
        "  # escreva sua solução aqui\n",
        "  I = [f(x) for x in D]  \n",
        "  for i in I:\n",
        "    if i not in C:      \n",
        "      return False\n",
        "  return len(I) == len(set(I))"
      ],
      "execution_count": null,
      "outputs": []
    },
    {
      "cell_type": "code",
      "metadata": {
        "id": "peZVNVg9gz4v",
        "colab": {
          "base_uri": "https://localhost:8080/"
        },
        "outputId": "be078fe4-25b5-4ff8-9ce6-ac6425481fbe"
      },
      "source": [
        "# Utilize este espaço para testar sua solução\n",
        "is_injective((lambda x: (x%10)+1), {x for x in range(1,21)}, {x for x in range(1,11)})"
      ],
      "execution_count": null,
      "outputs": [
        {
          "output_type": "execute_result",
          "data": {
            "text/plain": [
              "False"
            ]
          },
          "metadata": {
            "tags": []
          },
          "execution_count": 68
        }
      ]
    },
    {
      "cell_type": "code",
      "metadata": {
        "id": "U3wWrL2-hGiF",
        "colab": {
          "base_uri": "https://localhost:8080/"
        },
        "outputId": "1d77b6cb-da3a-4b7b-f28a-ae4e63d450c3"
      },
      "source": [
        "# Validação\n",
        "D = C = {x for x in range(1,11)}\n",
        "entradas = [[(lambda x: x+20), D, C], [(lambda x: (x%10)+1), D, C], [(lambda x: x%10), D, C]]\n",
        "saidas = [False, True, False]\n",
        "validate(is_injective, lambda x, y: y, entradas, saidas)"
      ],
      "execution_count": null,
      "outputs": [
        {
          "output_type": "stream",
          "text": [
            "Parabéns\n"
          ],
          "name": "stdout"
        }
      ]
    },
    {
      "cell_type": "markdown",
      "metadata": {
        "id": "U5iGFtQ8g99t"
      },
      "source": [
        "Exercício 09: Escreva uma função teste se uma função $f$ é sobrejetora, com domínio $D$ e contradomínio $C$"
      ]
    },
    {
      "cell_type": "code",
      "metadata": {
        "id": "H2SPl-W8g7f8"
      },
      "source": [
        "def is_surjective(f, D, C):\n",
        "  # escreva sua solução aqui\n",
        "  I = {f(x) for x in D}\n",
        "  return I == set(C)\n",
        "  "
      ],
      "execution_count": null,
      "outputs": []
    },
    {
      "cell_type": "code",
      "metadata": {
        "id": "uqWBU2nKj2d4",
        "colab": {
          "base_uri": "https://localhost:8080/"
        },
        "outputId": "0e303e0e-255d-4372-91b6-1d28a4ac78e8"
      },
      "source": [
        "# Utilize este espaço para testar sua solução\n",
        "is_surjective((lambda x: (x%10)+1), {x for x in range(1,21)}, {x for x in range(1,11)})"
      ],
      "execution_count": null,
      "outputs": [
        {
          "output_type": "execute_result",
          "data": {
            "text/plain": [
              "True"
            ]
          },
          "metadata": {
            "tags": []
          },
          "execution_count": 70
        }
      ]
    },
    {
      "cell_type": "code",
      "metadata": {
        "id": "UCk4hVLUj51f",
        "colab": {
          "base_uri": "https://localhost:8080/"
        },
        "outputId": "f80003ad-b5d8-474b-d805-f309997c63c1"
      },
      "source": [
        "# Validação\n",
        "D = {x for x in range(1,11)}\n",
        "C = {x for x in range(1,21)}\n",
        "entradas = [[lambda x: x, D, D], [lambda x: x+1, D, {x+1 for x in D}], [lambda x: x%10, D, D], [lambda x: (x%10)+1, C, D]]\n",
        "saidas = [True, True, False, True]\n",
        "\n",
        "validate(is_surjective, lambda x, y: y, entradas, saidas)"
      ],
      "execution_count": null,
      "outputs": [
        {
          "output_type": "stream",
          "text": [
            "Parabéns\n"
          ],
          "name": "stdout"
        }
      ]
    },
    {
      "cell_type": "markdown",
      "metadata": {
        "id": "SRFGSo0rlPd1"
      },
      "source": [
        "**Exercício 10:**\n",
        "Escreva uma função que teste se uma função $f$ é bijetora entre o domínio $D$ e o contradomínio $C$:"
      ]
    },
    {
      "cell_type": "code",
      "metadata": {
        "id": "D-Xq8X0Esxpd"
      },
      "source": [
        "def is_bijective(f, D, C):\n",
        "  # escreva sua solução aqui\n",
        "  return is_injective(f, D, C) and is_surjective(f, D, C)\n",
        "  "
      ],
      "execution_count": null,
      "outputs": []
    },
    {
      "cell_type": "code",
      "metadata": {
        "id": "XzwyvkXbsvqH",
        "colab": {
          "base_uri": "https://localhost:8080/"
        },
        "outputId": "61421889-3c7b-4855-f640-87b895f164b0"
      },
      "source": [
        "# Utilize este espaço para testar sua solução\n",
        "is_bijective((lambda x: (x%10)+1), {x for x in range(1,21)}, {x for x in range(1,11)})"
      ],
      "execution_count": null,
      "outputs": [
        {
          "output_type": "execute_result",
          "data": {
            "text/plain": [
              "False"
            ]
          },
          "metadata": {
            "tags": []
          },
          "execution_count": 74
        }
      ]
    },
    {
      "cell_type": "code",
      "metadata": {
        "id": "ymkQ3YublFIm",
        "colab": {
          "base_uri": "https://localhost:8080/"
        },
        "outputId": "38b179f6-4fa3-47b1-8440-5c1248bc707e"
      },
      "source": [
        "# Validação\n",
        "D = {x for x in range(1,11)}\n",
        "C = {x for x in range(1,21)}\n",
        "entradas = [[lambda x: x, D, D], [lambda x: x+1, D, {x+1 for x in D}], [lambda x: x%10, D, D], [lambda x: (x%10)+1, C, D]]\n",
        "saidas = [True, True, False, False]\n",
        "\n",
        "validate(is_bijective, lambda x, y: y, entradas, saidas)"
      ],
      "execution_count": null,
      "outputs": [
        {
          "output_type": "stream",
          "text": [
            "Parabéns\n"
          ],
          "name": "stdout"
        }
      ]
    }
  ]
}