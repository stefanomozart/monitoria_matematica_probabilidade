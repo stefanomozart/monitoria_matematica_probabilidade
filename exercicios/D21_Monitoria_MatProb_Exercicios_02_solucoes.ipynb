{
  "nbformat": 4,
  "nbformat_minor": 0,
  "metadata": {
    "colab": {
      "name": "D21_Monitoria_MatProb_Exercicios_02_solucoes",
      "provenance": [],
      "collapsed_sections": []
    },
    "kernelspec": {
      "name": "python3",
      "display_name": "Python 3"
    },
    "language_info": {
      "name": "python"
    }
  },
  "cells": [
    {
      "cell_type": "markdown",
      "metadata": {
        "id": "2tdhxTNah3s2"
      },
      "source": [
        "# D21 - Monitoria em Matemática e Probabilidade\n",
        "## Aula 02 - Conceitos fundamentais\n",
        "\n",
        "**Professor: Stefano Mozart**"
      ]
    },
    {
      "cell_type": "code",
      "metadata": {
        "id": "RZpmIsu_icpo"
      },
      "source": [
        "#@title Execute esta célula antes de iniciar a resolução dos exercícios\n",
        "#{display-mode: \"form\"}\n",
        "import sys\n",
        "\n",
        "def self_reference(f):\n",
        "  f.__defaults__ = f.__defaults__[:-1] + (f,)\n",
        "  return f\n",
        "\n",
        "def validate(func, test, input, output):\n",
        "  res = True\n",
        "  if input == None:    \n",
        "    if not equals(test(func()), output):\n",
        "      res = False\n",
        "      print(f'Resultado diferente do esperado.\\n')\n",
        "  else:\n",
        "    output = output if output != None else [True for e in input]\n",
        "    for i, o in zip(input, output):\n",
        "      j = func(*i)\n",
        "      if not equals(test(i, j), o):\n",
        "        res = False\n",
        "        print(f'Resultado diferente do esperado para a entrada {i}.\\n')\n",
        "  if hasattr(test, \"__t\") and test.__t == \"s\":\n",
        "    i = test.__I\n",
        "    if len(i) != len(set(i)) or (not set(i) == test.__C):\n",
        "      print(\"Erro na imagem da funçao\")\n",
        "      return\n",
        "  if res:\n",
        "    print(\"Parabéns\")\n",
        "\n",
        "@self_reference\n",
        "def teste(x, y, self=None):\n",
        "   if y not in self.__C:\n",
        "     return False\n",
        "   if y in self.__I:\n",
        "     return False\n",
        "   self.__I.append(y)\n",
        "   return True\n",
        "\n",
        "teste.__C = {y for y in range(1,11)}\n",
        "teste.__t=\"i\"\n",
        "\n",
        "def equals(a, b):\n",
        "  if type(a) == 'pandas.core.frame.DataFrame':    \n",
        "    return a.eq(b)  \n",
        "  return a == b\n"
      ],
      "execution_count": 88,
      "outputs": []
    },
    {
      "cell_type": "markdown",
      "metadata": {
        "id": "KOfrX8uAn_sO"
      },
      "source": [
        "### Relações: $R \\subseteq {A \\times B}$"
      ]
    },
    {
      "cell_type": "markdown",
      "metadata": {
        "id": "b08D7gIUoGKd"
      },
      "source": [
        "**Exercício 01**: \n",
        "\n",
        "Escreva uma função que retorne o produto cartesiano entre dois conjuntos: $P = {A \\times B}$\n",
        "- Observação: a relação será representada em sua forma extensa, como um conjunto de tuplas: $P=\\{(a,b) : a \\in A \\land b \\in B\\}$\n",
        "- Exemplo: $\\{1,2\\} \\times \\{1\\} = \\{(1,1), (2,1)\\}$"
      ]
    },
    {
      "cell_type": "code",
      "metadata": {
        "id": "KW3ecqa9oV3O"
      },
      "source": [
        "def cartesiano(A, B):\n",
        "  # escreva sua solução aqui\n",
        "  return {(a, b) for a in A for b in B}"
      ],
      "execution_count": 2,
      "outputs": []
    },
    {
      "cell_type": "code",
      "metadata": {
        "id": "1CN8rSJnodxI",
        "colab": {
          "base_uri": "https://localhost:8080/"
        },
        "outputId": "fb5cf7be-2a3d-49e6-997b-fbea81edd3e6"
      },
      "source": [
        "# Utilize este espaço para testar sua solução\n",
        "cartesiano({1,2,3,4}, {1,2,3,4,5})"
      ],
      "execution_count": 3,
      "outputs": [
        {
          "output_type": "execute_result",
          "data": {
            "text/plain": [
              "{(1, 1),\n",
              " (1, 2),\n",
              " (1, 3),\n",
              " (1, 4),\n",
              " (1, 5),\n",
              " (2, 1),\n",
              " (2, 2),\n",
              " (2, 3),\n",
              " (2, 4),\n",
              " (2, 5),\n",
              " (3, 1),\n",
              " (3, 2),\n",
              " (3, 3),\n",
              " (3, 4),\n",
              " (3, 5),\n",
              " (4, 1),\n",
              " (4, 2),\n",
              " (4, 3),\n",
              " (4, 4),\n",
              " (4, 5)}"
            ]
          },
          "metadata": {
            "tags": []
          },
          "execution_count": 3
        }
      ]
    },
    {
      "cell_type": "code",
      "metadata": {
        "id": "AbI99WCCFnF0",
        "colab": {
          "base_uri": "https://localhost:8080/"
        },
        "outputId": "9eaa7aca-c4a7-4510-f702-dc10d627d442"
      },
      "source": [
        "# Validação\n",
        "entradas = [[{1,2,3,4}, {2,3,4,5}], [[1,2,3,4], [1,2,3,4,5]]]\n",
        "saidas = [\n",
        "  {(1, 2), (1, 3), (1, 4), (1, 5), (2, 2), (2, 3), (2, 4), (2, 5), (3, 2), (3, 3), (3, 4), (3, 5), (4, 2), (4, 3), (4, 4), (4, 5)},\n",
        "  {(1, 1), (1, 2), (1, 3), (1, 4), (1, 5), (2, 1), (2, 2), (2, 3), (2, 4), (2, 5), (3, 1), (3, 2), (3, 3), (3, 4), (3, 5), (4, 1), (4, 2), (4, 3), (4, 4), (4, 5)}\n",
        "]\n",
        "validate(cartesiano, lambda x, y: y, entradas, saidas)"
      ],
      "execution_count": 4,
      "outputs": [
        {
          "output_type": "stream",
          "text": [
            "Parabéns\n"
          ],
          "name": "stdout"
        }
      ]
    },
    {
      "cell_type": "markdown",
      "metadata": {
        "id": "IdbnVmy1p0XV"
      },
      "source": [
        "**Exercício 02**: \n",
        "\n",
        "Escreva uma função que teste se um conjunto $R$ de tuplas representa uma relação entre os conjuntos $A$ e $B$ - isto é, se $R \\subseteq {A \\times B}$.\n",
        "- Observação: a relação será representada em sua forma extensa, como um conjunto de tuplas. ex. $R$={(1,2), (2,3), (3,4)}"
      ]
    },
    {
      "cell_type": "code",
      "metadata": {
        "id": "Hoe6bsEdqSc5"
      },
      "source": [
        "def is_relacao(R, A, B):\n",
        "  # escreva sua solução aqui\n",
        "  C = cartesiano(A,B)\n",
        "  for r in R:\n",
        "    if r not in C:\n",
        "      return False\n",
        "  return True"
      ],
      "execution_count": 5,
      "outputs": []
    },
    {
      "cell_type": "code",
      "metadata": {
        "id": "KI5YF2tkrJJc",
        "colab": {
          "base_uri": "https://localhost:8080/"
        },
        "outputId": "41f4feab-70bb-4890-d817-afee3ed40600"
      },
      "source": [
        "# Utilize este espaço para testar sua solução\n",
        "is_relacao({(1,1),(2,1)},{1,2},{1})"
      ],
      "execution_count": 6,
      "outputs": [
        {
          "output_type": "execute_result",
          "data": {
            "text/plain": [
              "True"
            ]
          },
          "metadata": {
            "tags": []
          },
          "execution_count": 6
        }
      ]
    },
    {
      "cell_type": "code",
      "metadata": {
        "id": "SY_C8qjiMyS3",
        "colab": {
          "base_uri": "https://localhost:8080/"
        },
        "outputId": "211aac2a-cc15-4944-f6dd-0f211c0f76e6"
      },
      "source": [
        "# Validação\n",
        "entradas = [\n",
        "  [{(1,2),(2,3),(3,2)}, {1,2,3,4}, {2,3,4,5}],\n",
        "  [[(6,2),(2,3),(3,5)], [1,2,3,4], [2,3,4,5]],\n",
        "  [{(1,2),(2,7),(3,2)}, [1,2,3,4], [2,3,4,5]]\n",
        "]\n",
        "saidas = [True, False, False]\n",
        "validate(is_relacao, lambda x, y: y, entradas, saidas)"
      ],
      "execution_count": 8,
      "outputs": [
        {
          "output_type": "stream",
          "text": [
            "Parabéns\n"
          ],
          "name": "stdout"
        }
      ]
    },
    {
      "cell_type": "markdown",
      "metadata": {
        "id": "gCIpHYOtrVVn"
      },
      "source": [
        "**Exercício 03:**\n",
        "\n",
        "Escreva uma função que teste se uma relação $R$ é serial: $(∀a \\in A [∃b \\in B : aRb])$:"
      ]
    },
    {
      "cell_type": "code",
      "metadata": {
        "id": "gsACAS90rkXw"
      },
      "source": [
        "def is_serial(R, A, B):\n",
        "  # escreva sua solução aqui\n",
        "  return is_relacao(R, A, B) and ({a for a, b in R} == set(A))\n",
        "  "
      ],
      "execution_count": 9,
      "outputs": []
    },
    {
      "cell_type": "code",
      "metadata": {
        "id": "PcXURNB1Rm3C",
        "colab": {
          "base_uri": "https://localhost:8080/"
        },
        "outputId": "a65cff05-ed4b-4e45-9509-841b74cf045d"
      },
      "source": [
        "# Utilize este espaço para testar sua solução\n",
        "is_serial({(1,1),(2,1)},{1,2},{1})"
      ],
      "execution_count": 10,
      "outputs": [
        {
          "output_type": "execute_result",
          "data": {
            "text/plain": [
              "True"
            ]
          },
          "metadata": {
            "tags": []
          },
          "execution_count": 10
        }
      ]
    },
    {
      "cell_type": "code",
      "metadata": {
        "id": "8zsg4_0gRnJt",
        "colab": {
          "base_uri": "https://localhost:8080/"
        },
        "outputId": "27275953-3d9f-4e5d-debb-e9836d7e18a7"
      },
      "source": [
        "# Vaidação\n",
        "entradas = [\n",
        "  [{(1,2),(2,3),(3,2)}, {1,2,3}, {2,3,4,5}],\n",
        "  [[(6,2),(2,3),(3,5)], [1,2,3,4], [2,3,4,5]],\n",
        "  [{(1,2),(2,7),(3,2)}, [1,2,3,4], [2,3,4,5]]\n",
        "]\n",
        "saidas = [True, False, False]\n",
        "\n",
        "validate(is_serial, lambda x, y: y, entradas, saidas)"
      ],
      "execution_count": 13,
      "outputs": [
        {
          "output_type": "stream",
          "text": [
            "Parabéns\n"
          ],
          "name": "stdout"
        }
      ]
    },
    {
      "cell_type": "markdown",
      "metadata": {
        "id": "E7RXqdROrxMq"
      },
      "source": [
        "**Exercício 04:**\n",
        "\n",
        "Escreva uma função que teste se uma relação $R$ é funcional: $\\forall a \\in A,  \\forall(b_i,b_j) \\in B[(aRb_i \\land aRb_j) \\rightarrow b_i=b_j]$"
      ]
    },
    {
      "cell_type": "code",
      "metadata": {
        "id": "vDiSGquFs_Ek"
      },
      "source": [
        "def is_funcional(R, A, B):\n",
        "  # escreva sua solução aqui\n",
        "  domain = [a for a, b in R]\n",
        "  return is_relacao(R, A, B) and len(domain) == len(set(domain)) \n",
        "  "
      ],
      "execution_count": 14,
      "outputs": []
    },
    {
      "cell_type": "code",
      "metadata": {
        "id": "5GFQY_bWtDSN",
        "colab": {
          "base_uri": "https://localhost:8080/"
        },
        "outputId": "8232a160-4654-41c5-9900-aa2d04022d82"
      },
      "source": [
        "# Utilize este espaço para testar sua solução\n",
        "is_funcional([(6,2),(2,3),(3,5)], [1,2,3,4], [2,3,4,5])"
      ],
      "execution_count": 17,
      "outputs": [
        {
          "output_type": "execute_result",
          "data": {
            "text/plain": [
              "False"
            ]
          },
          "metadata": {
            "tags": []
          },
          "execution_count": 17
        }
      ]
    },
    {
      "cell_type": "code",
      "metadata": {
        "id": "z2XCSW52HGHM",
        "colab": {
          "base_uri": "https://localhost:8080/"
        },
        "outputId": "bd7016e2-4b1b-40a2-f24d-213581902789"
      },
      "source": [
        "# validacao\n",
        "entradas = [\n",
        "  [{(1,2),(2,3),(3,2)}, {1,2,3,4}, {2,3,4,5}],\n",
        "  [[(6,2),(2,3),(3,5)], [1,2,3,4], [2,3,4,5]],\n",
        "  [{(1,2),(2,3),(3,4)}, [1,2,3,4], [2,3,4,5]]\n",
        "]\n",
        "saidas = [True, False, True]\n",
        "validate(is_funcional, lambda x, y: y, entradas, saidas)"
      ],
      "execution_count": 18,
      "outputs": [
        {
          "output_type": "stream",
          "text": [
            "Resultado diferente do esperado para a entrada [{(1, 2), (3, 2), (2, 3)}, {1, 2, 3, 4}, {2, 3, 4, 5}].\n",
            "\n"
          ],
          "name": "stdout"
        }
      ]
    },
    {
      "cell_type": "markdown",
      "metadata": {
        "id": "xiVDJcSmT7o_"
      },
      "source": [
        "## Funções: $f:D\\rightarrow C$"
      ]
    },
    {
      "cell_type": "markdown",
      "metadata": {
        "id": "Sa7XLR5EVkvr"
      },
      "source": [
        "**Exercício 05**:\n",
        "Escreva uma função que teste se uma relação $f$ é uma função:\n",
        "\n",
        "- Dica: lembre-se que funções são relações seriais e funcionais;\n",
        "- A função será representada na forma extensa: $\\{(x,y): y=f(x)\\}$ "
      ]
    },
    {
      "cell_type": "code",
      "metadata": {
        "id": "tcJWoJqUVL0c"
      },
      "source": [
        "def is_funcao(f, A, B):\n",
        "  # escreva sua solução aqui\n",
        "  return is_serial(f, A, B) and is_funcional(f, A, B)"
      ],
      "execution_count": 24,
      "outputs": []
    },
    {
      "cell_type": "code",
      "metadata": {
        "id": "NjWRsq37V_fr",
        "colab": {
          "base_uri": "https://localhost:8080/"
        },
        "outputId": "2a8803a7-099a-4f64-e173-bb31837de71d"
      },
      "source": [
        "# Utilize este espaço para testar sua solução\n",
        "is_funcao({(1,2),(2,3),(3,2)}, {1,2,3}, {2,3,4,5})"
      ],
      "execution_count": 25,
      "outputs": [
        {
          "output_type": "execute_result",
          "data": {
            "text/plain": [
              "True"
            ]
          },
          "metadata": {
            "tags": []
          },
          "execution_count": 25
        }
      ]
    },
    {
      "cell_type": "code",
      "metadata": {
        "id": "PADNhygGWTti",
        "colab": {
          "base_uri": "https://localhost:8080/"
        },
        "outputId": "d4ad57d3-e286-4f65-fddb-1e4e35160d06"
      },
      "source": [
        "# Validação\n",
        "entradas = [\n",
        "  [{(1,2),(2,3),(3,2)}, {1,2,3}, {2,3,4,5}],\n",
        "  [[(6,2),(2,3),(3,5)], [1,2,3,4], [2,3,4,5]],\n",
        "  [{(1,2),(2,3),(3,4),(4,6)}, [1,2,3,4], [2,3,4,5,6]]\n",
        "]\n",
        "saidas = [True, False, True]\n",
        "\n",
        "validate(is_funcao, lambda x, y: y, entradas, saidas)"
      ],
      "execution_count": 26,
      "outputs": [
        {
          "output_type": "stream",
          "text": [
            "Parabéns\n"
          ],
          "name": "stdout"
        }
      ]
    },
    {
      "cell_type": "markdown",
      "metadata": {
        "id": "5r7zIJiTXDeB"
      },
      "source": [
        "**Exercício 06:**\n",
        "Escreva uma função injetora com domínio = $D = \\{1,..,10\\}$ e contradomínio $C = \\{1,..,20\\}$. Isto é, a função deve retornar um único valor $y \\in C$ para todo valor $x \\in D$."
      ]
    },
    {
      "cell_type": "code",
      "metadata": {
        "id": "42J71Mq3YO6d"
      },
      "source": [
        "def injective(x):\n",
        "  # escreva sua solução aqui\n",
        "  #return x\n",
        "  #return x+1\n",
        "  #return x+10\n",
        "  #return (x%10)+1\n",
        "  #return (x%20)+1\n",
        "  #return 2*x\n",
        "  return (2*x)-1\n",
        "  \n"
      ],
      "execution_count": 76,
      "outputs": []
    },
    {
      "cell_type": "code",
      "metadata": {
        "id": "u8luk16pYgN9",
        "colab": {
          "base_uri": "https://localhost:8080/"
        },
        "outputId": "d0831d68-6ced-4e32-d60c-629e93eac0dd"
      },
      "source": [
        "# Utilize este espaço para testar sua solução\n",
        "[injective(x) for x in range(1, 11)]"
      ],
      "execution_count": 77,
      "outputs": [
        {
          "output_type": "execute_result",
          "data": {
            "text/plain": [
              "[1, 3, 5, 7, 9, 11, 13, 15, 17, 19]"
            ]
          },
          "metadata": {
            "tags": []
          },
          "execution_count": 77
        }
      ]
    },
    {
      "cell_type": "code",
      "metadata": {
        "id": "eOcr59ZtYnU1",
        "colab": {
          "base_uri": "https://localhost:8080/"
        },
        "outputId": "7b101b0d-514d-4299-cacc-a7cf5f61cbb1"
      },
      "source": [
        "# Validação\n",
        "entradas = [[x] for x in range(1, 11)]\n",
        "teste.__I = []\n",
        "teste.__C = [y for y in range(1,21)]\n",
        "teste.__t=\"i\"\n",
        "validate(injective, teste, entradas, None)"
      ],
      "execution_count": 83,
      "outputs": [
        {
          "output_type": "stream",
          "text": [
            "Parabéns\n"
          ],
          "name": "stdout"
        }
      ]
    },
    {
      "cell_type": "markdown",
      "metadata": {
        "id": "Z2XWGPesbJ1g"
      },
      "source": [
        "**Exercício 07:**\n",
        "Escreva uma função bijetora $f:D\\rightarrow C$, com $D = C = \\{1,..,10\\}$:"
      ]
    },
    {
      "cell_type": "code",
      "metadata": {
        "id": "V0zI1uvzZSuk"
      },
      "source": [
        "def bijective(x):\n",
        "  # escreva sua solução aqui\n",
        "  #return x\n",
        "  #return 11 - x\n",
        "  #return (x % 10) + 1\n",
        "  return 11-x if x < 6 else x-5\n",
        "  "
      ],
      "execution_count": 59,
      "outputs": []
    },
    {
      "cell_type": "code",
      "metadata": {
        "id": "IcDPmbyZbpl_",
        "colab": {
          "base_uri": "https://localhost:8080/"
        },
        "outputId": "41417644-f2da-40ee-ca7c-33f5546320d2"
      },
      "source": [
        "# Utilize este espaço para testar sua solução\n",
        "[bijective(x)  for x in range(1,11)]"
      ],
      "execution_count": 62,
      "outputs": [
        {
          "output_type": "execute_result",
          "data": {
            "text/plain": [
              "[10, 9, 8, 7, 6, 1, 2, 3, 4, 5]"
            ]
          },
          "metadata": {
            "tags": []
          },
          "execution_count": 62
        }
      ]
    },
    {
      "cell_type": "code",
      "metadata": {
        "id": "HMSeLxk6br3P",
        "colab": {
          "base_uri": "https://localhost:8080/"
        },
        "outputId": "48b0a610-7544-40dc-e120-45be0b0a1520"
      },
      "source": [
        "# Validação\n",
        "entradas = [[x] for x in range(1,11)]\n",
        "teste.__I = []\n",
        "teste.__C = {y for y in range(1,11)}\n",
        "teste.__t = \"s\"\n",
        "\n",
        "validate(bijective, teste, entradas, None)"
      ],
      "execution_count": 84,
      "outputs": [
        {
          "output_type": "stream",
          "text": [
            "Parabéns\n"
          ],
          "name": "stdout"
        }
      ]
    },
    {
      "cell_type": "markdown",
      "metadata": {
        "id": "V2_GDKOQgQmn"
      },
      "source": [
        "**Exercício 08:**\n",
        "Escreva uma função que teste se uma função $f$, é injetora com domínio $D$ e contradomínio $C$:\n",
        "\n",
        "- Observação: nesse caso, $f$ é uma função Python que recebe um único argumento $x$ e retorna um resultado $y$"
      ]
    },
    {
      "cell_type": "code",
      "metadata": {
        "id": "ZYjrZT3Xf9tL"
      },
      "source": [
        "def is_injective(f, D, C):\n",
        "  # escreva sua solução aqui\n",
        "  I = [f(x) for x in D]\n",
        "  return set(I).issubset(C) and len(I) == len(set(I))"
      ],
      "execution_count": 93,
      "outputs": []
    },
    {
      "cell_type": "code",
      "metadata": {
        "id": "peZVNVg9gz4v",
        "colab": {
          "base_uri": "https://localhost:8080/"
        },
        "outputId": "ae22dcca-bfd9-461a-b862-68d09f938d17"
      },
      "source": [
        "# Utilize este espaço para testar sua solução\n",
        "is_injective((lambda x: (x%10)+1), {x for x in range(1,11)}, {x for x in range(1,30)})"
      ],
      "execution_count": 97,
      "outputs": [
        {
          "output_type": "execute_result",
          "data": {
            "text/plain": [
              "True"
            ]
          },
          "metadata": {
            "tags": []
          },
          "execution_count": 97
        }
      ]
    },
    {
      "cell_type": "code",
      "metadata": {
        "id": "U3wWrL2-hGiF",
        "colab": {
          "base_uri": "https://localhost:8080/"
        },
        "outputId": "6a5a6e5b-0bcd-4f75-b92d-993aebbd1a1a"
      },
      "source": [
        "# Validação\n",
        "D = C = {x for x in range(1,11)}\n",
        "entradas = [[(lambda x: x+20), D, C], [(lambda x: (x%10)+1), D, C], [(lambda x: x%10), D, C]]\n",
        "saidas = [False, True, False]\n",
        "validate(is_injective, lambda x, y: y, entradas, saidas)"
      ],
      "execution_count": 95,
      "outputs": [
        {
          "output_type": "stream",
          "text": [
            "Parabéns\n"
          ],
          "name": "stdout"
        }
      ]
    },
    {
      "cell_type": "markdown",
      "metadata": {
        "id": "U5iGFtQ8g99t"
      },
      "source": [
        "Exercício 09: Escreva uma função teste se uma função $f$ é sobrejetora, com domínio $D$ e contradomínio $C$"
      ]
    },
    {
      "cell_type": "code",
      "metadata": {
        "id": "H2SPl-W8g7f8"
      },
      "source": [
        "def is_surjective(f, D, C):\n",
        "  # escreva sua solução aqui\n",
        "  I = {f(x) for x in D}\n",
        "  return I == set(C)\n",
        "  "
      ],
      "execution_count": 98,
      "outputs": []
    },
    {
      "cell_type": "code",
      "metadata": {
        "id": "uqWBU2nKj2d4",
        "colab": {
          "base_uri": "https://localhost:8080/"
        },
        "outputId": "d802b5d3-0f57-41e4-fbb5-d96d9f874e43"
      },
      "source": [
        "# Utilize este espaço para testar sua solução\n",
        "is_surjective((lambda x: (x%10)+1), {x for x in range(1,21)}, {x for x in range(1,11)})"
      ],
      "execution_count": 99,
      "outputs": [
        {
          "output_type": "execute_result",
          "data": {
            "text/plain": [
              "True"
            ]
          },
          "metadata": {
            "tags": []
          },
          "execution_count": 99
        }
      ]
    },
    {
      "cell_type": "code",
      "metadata": {
        "id": "UCk4hVLUj51f",
        "colab": {
          "base_uri": "https://localhost:8080/"
        },
        "outputId": "e1618f96-249c-4cf9-adb4-aaf66ac4aff7"
      },
      "source": [
        "# Validação\n",
        "D = {x for x in range(1,11)}\n",
        "C = {x for x in range(1,21)}\n",
        "entradas = [[lambda x: x, D, D], [lambda x: x+1, D, {x+1 for x in D}], [lambda x: x%10, D, D], [lambda x: (x%10)+1, C, D]]\n",
        "saidas = [True, True, False, True]\n",
        "\n",
        "validate(is_surjective, lambda x, y: y, entradas, saidas)"
      ],
      "execution_count": 100,
      "outputs": [
        {
          "output_type": "stream",
          "text": [
            "Parabéns\n"
          ],
          "name": "stdout"
        }
      ]
    },
    {
      "cell_type": "markdown",
      "metadata": {
        "id": "SRFGSo0rlPd1"
      },
      "source": [
        "**Exercício 10:**\n",
        "Escreva uma função que teste se uma função $f$ é bijetora entre o domínio $D$ e o contradomínio $C$:"
      ]
    },
    {
      "cell_type": "code",
      "metadata": {
        "id": "D-Xq8X0Esxpd"
      },
      "source": [
        "def is_bijective(f, D, C):\n",
        "  # escreva sua solução aqui\n",
        "  return is_injective(f, D, C) and is_surjective(f, D, C)\n",
        "  "
      ],
      "execution_count": 101,
      "outputs": []
    },
    {
      "cell_type": "code",
      "metadata": {
        "id": "XzwyvkXbsvqH",
        "colab": {
          "base_uri": "https://localhost:8080/"
        },
        "outputId": "c9ca8abf-50f9-4f3e-9a06-deefac56fb7d"
      },
      "source": [
        "# Utilize este espaço para testar sua solução\n",
        "is_bijective((lambda x: (x%10)+1), {x for x in range(1,11)}, {x for x in range(1,11)})"
      ],
      "execution_count": 103,
      "outputs": [
        {
          "output_type": "execute_result",
          "data": {
            "text/plain": [
              "True"
            ]
          },
          "metadata": {
            "tags": []
          },
          "execution_count": 103
        }
      ]
    },
    {
      "cell_type": "code",
      "metadata": {
        "id": "ymkQ3YublFIm",
        "colab": {
          "base_uri": "https://localhost:8080/"
        },
        "outputId": "f475c82b-7763-4e1b-e471-2c392911b5fe"
      },
      "source": [
        "# Validação\n",
        "D = {x for x in range(1,11)}\n",
        "C = {x for x in range(1,21)}\n",
        "entradas = [[lambda x: x, D, D], [lambda x: x+1, D, {x+1 for x in D}], [lambda x: x%10, D, D], [lambda x: (x%10)+1, C, D]]\n",
        "saidas = [True, True, False, False]\n",
        "\n",
        "validate(is_bijective, lambda x, y: y, entradas, saidas)"
      ],
      "execution_count": 104,
      "outputs": [
        {
          "output_type": "stream",
          "text": [
            "Parabéns\n"
          ],
          "name": "stdout"
        }
      ]
    }
  ]
}