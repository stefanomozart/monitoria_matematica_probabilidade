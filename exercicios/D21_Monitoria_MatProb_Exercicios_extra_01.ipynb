{
  "nbformat": 4,
  "nbformat_minor": 0,
  "metadata": {
    "colab": {
      "name": "D21_Monitoria_MatProb_Exercicios_extra_01.ipynb",
      "provenance": [],
      "collapsed_sections": []
    },
    "kernelspec": {
      "name": "python3",
      "display_name": "Python 3"
    },
    "language_info": {
      "name": "python"
    }
  },
  "cells": [
    {
      "cell_type": "markdown",
      "metadata": {
        "id": "7NamsPxh7idk"
      },
      "source": [
        "# D21 - Monitoria em Matemática e Probabilidade\n",
        "## Aula 02 - Conceitos fundamentais\n",
        "\n",
        "**Professor: Stefano Mozart**"
      ]
    },
    {
      "cell_type": "code",
      "metadata": {
        "id": "3JeYZffG7Yu6"
      },
      "source": [
        "#@title Execute esta célula antes de iniciar a resolução dos exercícios\n",
        "#{display-mode: \"form\"}\n",
        "import sys\n",
        "\n",
        "def validate(func, test, input, output):\n",
        "  res = True\n",
        "  if input == None:    \n",
        "    if not equals(test(func()), output):\n",
        "      res = False\n",
        "      print(f'Resultado diferente do esperado.\\n')\n",
        "  else:\n",
        "    output = output if output != None else [True for e in input]\n",
        "    for i, o in zip(input, output):\n",
        "      j = func(*i)\n",
        "      if not equals(test(i, j), o):\n",
        "        res = False\n",
        "        print(f'Resultado diferente do esperado para a entrada {i}.\\n')\n",
        "  \n",
        "  if res:\n",
        "    print(\"Parabéns\")\n",
        "\n",
        "def equals(a, b):\n",
        "  if type(a) == 'pandas.core.frame.DataFrame':    \n",
        "    return a.eq(b)  \n",
        "  return a == b"
      ],
      "execution_count": null,
      "outputs": []
    },
    {
      "cell_type": "markdown",
      "metadata": {
        "id": "BP2wq778vciC"
      },
      "source": [
        "## Criando um banco SQLite"
      ]
    },
    {
      "cell_type": "code",
      "metadata": {
        "id": "U34-OiFJvNvQ"
      },
      "source": [
        "import pandas as pd\n",
        "from sqlalchemy import create_engine"
      ],
      "execution_count": null,
      "outputs": []
    },
    {
      "cell_type": "markdown",
      "metadata": {
        "id": "xcnuf1ia8CWq"
      },
      "source": [
        "O método `create_engine` configura a conexão do SQLAlchemy ao banco de dados utilizando as informações no `dsn` (tipo de banco, endereço IP, porta, usuário, senha, etc). No exemplo abaixo, utilizamos um banco SQLite, que será gravado no arquivo `save_pandas.db`.\n",
        "\n",
        "O método `connet` realiza a conexão."
      ]
    },
    {
      "cell_type": "code",
      "metadata": {
        "id": "8Zbl68sjz6QT"
      },
      "source": [
        "dsn = 'sqlite:///save_pandas.db'\n",
        "engine = create_engine(dsn, echo=False)\n",
        "conn = engine.connect()"
      ],
      "execution_count": null,
      "outputs": []
    },
    {
      "cell_type": "markdown",
      "metadata": {
        "id": "k9qH17Dl88ST"
      },
      "source": [
        "Criamos um dataframe para testar a inegração do pandas com o SQLAlchemy"
      ]
    },
    {
      "cell_type": "code",
      "metadata": {
        "id": "6LVsvbq5z78O"
      },
      "source": [
        "df = pd.DataFrame({\n",
        "    'id': [1, 2, 3],\n",
        "    'name' : ['User 1', 'User 2', 'User 3']\n",
        "})"
      ],
      "execution_count": null,
      "outputs": []
    },
    {
      "cell_type": "markdown",
      "metadata": {
        "id": "xFuGIiM5GGdJ"
      },
      "source": [
        "## Salvando um dataframe no banco"
      ]
    },
    {
      "cell_type": "markdown",
      "metadata": {
        "id": "QdWA_m3G9CpJ"
      },
      "source": [
        "Salvamos o dataframe no banco, numa tabela chamada `user`. Utilizamos a opção `index=False` para não gravar no banco o índice do dataframe e a opção `if_exists='replace'` pra substituir a tabela no banco, caso já exista"
      ]
    },
    {
      "cell_type": "code",
      "metadata": {
        "id": "PIPGAgyH0N-s"
      },
      "source": [
        "df.to_sql('user', con=conn, index=False, if_exists='replace')"
      ],
      "execution_count": null,
      "outputs": []
    },
    {
      "cell_type": "markdown",
      "metadata": {
        "id": "HlZT1avHGONA"
      },
      "source": [
        "## Carregando um dataframe a partir de dados do banco"
      ]
    },
    {
      "cell_type": "markdown",
      "metadata": {
        "id": "LPvaG7j_9d4r"
      },
      "source": [
        "Usamos o método `execute` para enviar instruções SQL ao banco de dados\n",
        "\n",
        "- O método `fetchall` retorna todos os resultados da consulta na forma de tuplas\n",
        "- O método `read_sql_database`, do pandas, lê uma tabela e cria um dataframe"
      ]
    },
    {
      "cell_type": "code",
      "metadata": {
        "colab": {
          "base_uri": "https://localhost:8080/"
        },
        "id": "lkpPo5Mr0gl9",
        "outputId": "4ac8ab94-3974-4373-da8f-1154b818a0e1"
      },
      "source": [
        "conn.execute(\"Select * from user\").fetchall()"
      ],
      "execution_count": null,
      "outputs": [
        {
          "output_type": "execute_result",
          "data": {
            "text/plain": [
              "[(1, 'User 1'), (2, 'User 2'), (3, 'User 3')]"
            ]
          },
          "metadata": {
            "tags": []
          },
          "execution_count": 6
        }
      ]
    },
    {
      "cell_type": "code",
      "metadata": {
        "colab": {
          "base_uri": "https://localhost:8080/",
          "height": 142
        },
        "id": "uQ8XfgR--Bk1",
        "outputId": "0b95b1af-0ecd-45bd-905e-fb078e27170d"
      },
      "source": [
        "user = pd.read_sql_table('user', con=conn)\n",
        "user"
      ],
      "execution_count": null,
      "outputs": [
        {
          "output_type": "execute_result",
          "data": {
            "text/html": [
              "<div>\n",
              "<style scoped>\n",
              "    .dataframe tbody tr th:only-of-type {\n",
              "        vertical-align: middle;\n",
              "    }\n",
              "\n",
              "    .dataframe tbody tr th {\n",
              "        vertical-align: top;\n",
              "    }\n",
              "\n",
              "    .dataframe thead th {\n",
              "        text-align: right;\n",
              "    }\n",
              "</style>\n",
              "<table border=\"1\" class=\"dataframe\">\n",
              "  <thead>\n",
              "    <tr style=\"text-align: right;\">\n",
              "      <th></th>\n",
              "      <th>id</th>\n",
              "      <th>name</th>\n",
              "    </tr>\n",
              "  </thead>\n",
              "  <tbody>\n",
              "    <tr>\n",
              "      <th>0</th>\n",
              "      <td>1</td>\n",
              "      <td>User 1</td>\n",
              "    </tr>\n",
              "    <tr>\n",
              "      <th>1</th>\n",
              "      <td>2</td>\n",
              "      <td>User 2</td>\n",
              "    </tr>\n",
              "    <tr>\n",
              "      <th>2</th>\n",
              "      <td>3</td>\n",
              "      <td>User 3</td>\n",
              "    </tr>\n",
              "  </tbody>\n",
              "</table>\n",
              "</div>"
            ],
            "text/plain": [
              "   id    name\n",
              "0   1  User 1\n",
              "1   2  User 2\n",
              "2   3  User 3"
            ]
          },
          "metadata": {
            "tags": []
          },
          "execution_count": 7
        }
      ]
    },
    {
      "cell_type": "markdown",
      "metadata": {
        "id": "FV-1faScGffR"
      },
      "source": [
        "Você também pode usar o construtor `panda.DataFrame` para criar um dataframe a partir de uma consulta sql qualquer"
      ]
    },
    {
      "cell_type": "code",
      "metadata": {
        "colab": {
          "base_uri": "https://localhost:8080/",
          "height": 111
        },
        "id": "uJuZ9bj5Gq9C",
        "outputId": "44dc955f-8992-4824-a826-5c894fc52f8b"
      },
      "source": [
        "pd.DataFrame(conn.execute(\"Select name, id from user where id > 1\").fetchall(), columns=['Nome', 'CPF'])"
      ],
      "execution_count": null,
      "outputs": [
        {
          "output_type": "execute_result",
          "data": {
            "text/html": [
              "<div>\n",
              "<style scoped>\n",
              "    .dataframe tbody tr th:only-of-type {\n",
              "        vertical-align: middle;\n",
              "    }\n",
              "\n",
              "    .dataframe tbody tr th {\n",
              "        vertical-align: top;\n",
              "    }\n",
              "\n",
              "    .dataframe thead th {\n",
              "        text-align: right;\n",
              "    }\n",
              "</style>\n",
              "<table border=\"1\" class=\"dataframe\">\n",
              "  <thead>\n",
              "    <tr style=\"text-align: right;\">\n",
              "      <th></th>\n",
              "      <th>Nome</th>\n",
              "      <th>CPF</th>\n",
              "    </tr>\n",
              "  </thead>\n",
              "  <tbody>\n",
              "    <tr>\n",
              "      <th>0</th>\n",
              "      <td>User 2</td>\n",
              "      <td>2</td>\n",
              "    </tr>\n",
              "    <tr>\n",
              "      <th>1</th>\n",
              "      <td>User 3</td>\n",
              "      <td>3</td>\n",
              "    </tr>\n",
              "  </tbody>\n",
              "</table>\n",
              "</div>"
            ],
            "text/plain": [
              "     Nome  CPF\n",
              "0  User 2    2\n",
              "1  User 3    3"
            ]
          },
          "metadata": {
            "tags": []
          },
          "execution_count": 28
        }
      ]
    },
    {
      "cell_type": "markdown",
      "metadata": {
        "id": "z3zkvgxUGUM4"
      },
      "source": [
        "## Executando instruções SQL"
      ]
    },
    {
      "cell_type": "markdown",
      "metadata": {
        "id": "4KgEOHxp_ei9"
      },
      "source": [
        "O método `execute` também permite instruções do tipo DDL (Data Definition Language), utilizadas para criação ou alteração de objetos"
      ]
    },
    {
      "cell_type": "code",
      "metadata": {
        "colab": {
          "base_uri": "https://localhost:8080/"
        },
        "id": "RRgZjD2j0p3F",
        "outputId": "09e662e4-b90f-462a-f4fd-21a2b834fc68"
      },
      "source": [
        "# Drop, if exsits\n",
        "conn.execute('DROP TABLE IF EXISTS post')\n",
        "\n",
        "# Create\n",
        "create_table_post = \"\"\"\n",
        "CREATE TABLE post (\n",
        "  id INTEGER PRIMARY KEY AUTOINCREMENT,\n",
        "  title TEXT NOT NULL,\n",
        "  content TEXT,\n",
        "  user_id INTEGER  \n",
        ");\n",
        "\"\"\"\n",
        "\n",
        "conn.execute(create_table_post)"
      ],
      "execution_count": null,
      "outputs": [
        {
          "output_type": "execute_result",
          "data": {
            "text/plain": [
              "<sqlalchemy.engine.cursor.LegacyCursorResult at 0x7fa061706510>"
            ]
          },
          "metadata": {
            "tags": []
          },
          "execution_count": 16
        }
      ]
    },
    {
      "cell_type": "code",
      "metadata": {
        "colab": {
          "base_uri": "https://localhost:8080/"
        },
        "id": "1xuze8qb3MZW",
        "outputId": "f32a1919-295f-4bb9-908b-a36da191be7c"
      },
      "source": [
        "insert_into_post = \"\"\"\n",
        "INSERT INTO post\n",
        "  (title, content, user_id)\n",
        "VALUES\n",
        "  ('Post 1', 'Conteúdo do post 1', 1),\n",
        "  ('Post 2', 'Conteúdo do post 2', 1),\n",
        "  ('Post 3', 'Conteúdo do post 3', 3),\n",
        "  ('Post 4', 'Conteúdo do post 4', 4);\n",
        "\"\"\"\n",
        "\n",
        "conn.execute(insert_into_post)"
      ],
      "execution_count": null,
      "outputs": [
        {
          "output_type": "execute_result",
          "data": {
            "text/plain": [
              "<sqlalchemy.engine.cursor.LegacyCursorResult at 0x7fa061809290>"
            ]
          },
          "metadata": {
            "tags": []
          },
          "execution_count": 17
        }
      ]
    },
    {
      "cell_type": "markdown",
      "metadata": {
        "id": "KYneoCI1HfkN"
      },
      "source": [
        "# Exercícios"
      ]
    },
    {
      "cell_type": "markdown",
      "metadata": {
        "id": "lMH1Ev9H_6BJ"
      },
      "source": [
        "**Exercício 01**\n",
        "\n",
        "Escreva uma função que realize um INNER JOIN entre as tabelas `user` e `post`. Utilize o método `fetchall` para retornar o resultado."
      ]
    },
    {
      "cell_type": "code",
      "metadata": {
        "id": "ME65o_lc3wAE"
      },
      "source": [
        "def inner_join():\n",
        "  # Escreva sua resposta aqui\n",
        "  \n",
        "  return conn.execute(select_inner_join).fetchall()"
      ],
      "execution_count": null,
      "outputs": []
    },
    {
      "cell_type": "code",
      "metadata": {
        "colab": {
          "base_uri": "https://localhost:8080/"
        },
        "id": "EA5a2n3PBn7s",
        "outputId": "85811e98-fc9c-4ad6-c5f7-818b48f648ae"
      },
      "source": [
        "# Utilize este espaço para testar sua solução\n",
        "inner_join()"
      ],
      "execution_count": null,
      "outputs": [
        {
          "output_type": "execute_result",
          "data": {
            "text/plain": [
              "[(1, 'User 1', 1, 'Post 1', 'Conteúdo do post 1', 1),\n",
              " (1, 'User 1', 2, 'Post 2', 'Conteúdo do post 2', 1),\n",
              " (3, 'User 3', 3, 'Post 3', 'Conteúdo do post 3', 3)]"
            ]
          },
          "metadata": {
            "tags": []
          },
          "execution_count": 19
        }
      ]
    },
    {
      "cell_type": "code",
      "metadata": {
        "colab": {
          "base_uri": "https://localhost:8080/"
        },
        "id": "axLxMr6xBsOD",
        "outputId": "a6d7999d-ee4e-47f2-cfa7-ebaad16c5572"
      },
      "source": [
        "# Validação\n",
        "saida = [(1, 'User 1', 1, 'Post 1', 'Conteúdo do post 1', 1),\n",
        " (1, 'User 1', 2, 'Post 2', 'Conteúdo do post 2', 1),\n",
        " (3, 'User 3', 3, 'Post 3', 'Conteúdo do post 3', 3)]\n",
        "validate(inner_join, lambda x: x, None, saida)"
      ],
      "execution_count": null,
      "outputs": [
        {
          "output_type": "stream",
          "text": [
            "Parabéns\n"
          ],
          "name": "stdout"
        }
      ]
    },
    {
      "cell_type": "markdown",
      "metadata": {
        "id": "V12ehip2FFP0"
      },
      "source": [
        "**Exercício 02:**\n",
        "Escreva uma função que retorne um dataframe com todos os elementos da tabela `user`, associados aos respectivos elementos da tabela `post` - quando existirem.\n",
        "\n",
        "- Observação: utilize os seguintes nomes para as colunas: ['UserId', 'UserName', 'PostId', 'PostTitle', 'PostContent']"
      ]
    },
    {
      "cell_type": "code",
      "metadata": {
        "id": "48IYx44BFdmW"
      },
      "source": [
        "def user_and_post():\n",
        "  # Escreva sua solução aqui aqui\n",
        "  "
      ],
      "execution_count": null,
      "outputs": []
    },
    {
      "cell_type": "code",
      "metadata": {
        "id": "24GtK8BYFmKE"
      },
      "source": [
        "# Utilize este espaço para testar sua solução\n"
      ],
      "execution_count": null,
      "outputs": []
    },
    {
      "cell_type": "code",
      "metadata": {
        "colab": {
          "base_uri": "https://localhost:8080/"
        },
        "id": "a-i7bj8kFl80",
        "outputId": "232125a1-c64f-4ce3-fdfd-4ad3991577a2"
      },
      "source": [
        "# Validação\n",
        "saida = r'{\"UserId\":{\"0\":1,\"1\":1,\"2\":2,\"3\":3},\"UserName\":{\"0\":\"User 1\",\"1\":\"User 1\",\"2\":\"User 2\",\"3\":\"User 3\"},\"PostId\":{\"0\":1.0,\"1\":2.0,\"2\":null,\"3\":3.0},\"PostTitle\":{\"0\":\"Post 1\",\"1\":\"Post 2\",\"2\":null,\"3\":\"Post 3\"},\"PostContent\":{\"0\":\"Conte\\u00fado do post 1\",\"1\":\"Conte\\u00fado do post 2\",\"2\":null,\"3\":\"Conte\\u00fado do post 3\"}}'\n",
        "validate(user_and_post, lambda x: x.to_json(), None, saida)"
      ],
      "execution_count": null,
      "outputs": [
        {
          "output_type": "stream",
          "text": [
            "Parabéns\n"
          ],
          "name": "stdout"
        }
      ]
    }
  ]
}