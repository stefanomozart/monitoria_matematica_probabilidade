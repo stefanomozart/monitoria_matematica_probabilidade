{
  "nbformat": 4,
  "nbformat_minor": 0,
  "metadata": {
    "colab": {
      "name": "D21_Monitoria_MatProb_Exercicios_01",
      "provenance": [],
      "collapsed_sections": []
    },
    "kernelspec": {
      "name": "python3",
      "display_name": "Python 3"
    },
    "language_info": {
      "name": "python"
    }
  },
  "cells": [
    {
      "cell_type": "markdown",
      "metadata": {
        "id": "2tdhxTNah3s2"
      },
      "source": [
        "# D21 - Monitoria em Matemática e Probabilidade\n",
        "## Aula 01 - Teoria de Conjuntos\n",
        "\n",
        "**Professor: Stefano Mozart**"
      ]
    },
    {
      "cell_type": "code",
      "metadata": {
        "id": "RZpmIsu_icpo"
      },
      "source": [
        "import sys\n",
        "\n",
        "# Valores de teste para nossas expressões falseáveis\n",
        "X = set((1, 2, 3, 4, 5, 6, 7, 8, 9, 10))\n",
        "Y = set((2, 4, 6, 8, 10, 12, 14, 16, 18))\n",
        "Z = set((1, 3, 9, 27, 81))\n",
        "U = set([i for i in range(0, 100)])\n"
      ],
      "execution_count": 3,
      "outputs": []
    },
    {
      "cell_type": "markdown",
      "metadata": {
        "id": "KOfrX8uAn_sO"
      },
      "source": [
        "### Complemento"
      ]
    },
    {
      "cell_type": "markdown",
      "metadata": {
        "id": "b08D7gIUoGKd"
      },
      "source": [
        "**Exercício 01**: \n",
        "\n",
        "Escreva uma função retorne o complemento de um conjunto ***X***. \n",
        "\n",
        "- Dica: considere como universo o conjunto U, definido acima.\n",
        "\n"
      ]
    },
    {
      "cell_type": "code",
      "metadata": {
        "id": "KW3ecqa9oV3O"
      },
      "source": [
        "def complemento(w):\n",
        "  # escreva sua solução aqui\n",
        "  # return \n",
        "  return set(U)-set(w) == [i for i in U if i not in w] "
      ],
      "execution_count": 41,
      "outputs": []
    },
    {
      "cell_type": "code",
      "metadata": {
        "colab": {
          "base_uri": "https://localhost:8080/"
        },
        "id": "1CN8rSJnodxI",
        "outputId": "c89e5509-b527-44bc-9e7f-c28411ecff91"
      },
      "source": [
        "# Utilize este espaço para testar sua solução\n",
        "resposta = complemento(Y)\n",
        "\n",
        "for r in resposta:\n",
        "  print(r)"
      ],
      "execution_count": 43,
      "outputs": [
        {
          "output_type": "stream",
          "text": [
            "0\n",
            "1\n",
            "3\n",
            "5\n",
            "7\n",
            "9\n",
            "11\n",
            "13\n",
            "15\n",
            "17\n",
            "19\n",
            "20\n",
            "21\n",
            "22\n",
            "23\n",
            "24\n",
            "25\n",
            "26\n",
            "27\n",
            "28\n",
            "29\n",
            "30\n",
            "31\n",
            "32\n",
            "33\n",
            "34\n",
            "35\n",
            "36\n",
            "37\n",
            "38\n",
            "39\n",
            "40\n",
            "41\n",
            "42\n",
            "43\n",
            "44\n",
            "45\n",
            "46\n",
            "47\n",
            "48\n",
            "49\n",
            "50\n",
            "51\n",
            "52\n",
            "53\n",
            "54\n",
            "55\n",
            "56\n",
            "57\n",
            "58\n",
            "59\n",
            "60\n",
            "61\n",
            "62\n",
            "63\n",
            "64\n",
            "65\n",
            "66\n",
            "67\n",
            "68\n",
            "69\n",
            "70\n",
            "71\n",
            "72\n",
            "73\n",
            "74\n",
            "75\n",
            "76\n",
            "77\n",
            "78\n",
            "79\n",
            "80\n",
            "81\n",
            "82\n",
            "83\n",
            "84\n",
            "85\n",
            "86\n",
            "87\n",
            "88\n",
            "89\n",
            "90\n",
            "91\n",
            "92\n",
            "93\n",
            "94\n",
            "95\n",
            "96\n",
            "97\n",
            "98\n",
            "99\n"
          ],
          "name": "stdout"
        }
      ]
    },
    {
      "cell_type": "markdown",
      "metadata": {
        "id": "IdbnVmy1p0XV"
      },
      "source": [
        "**Exercício 02:**\n",
        "\n",
        "Escreva uma função que receba dois conjuntos (***X***, ***Y***) como argumentos e retorne o valor True, caso o segundo (***Y***) argumento seja o complemento do primeiro (***X***).\n",
        "\n",
        "- Dica: considere como universo o conjunto U, definido acima."
      ]
    },
    {
      "cell_type": "code",
      "metadata": {
        "id": "Hoe6bsEdqSc5"
      },
      "source": [
        "def is_complemento(A, B):\n",
        "  # escreva sua solução aqui  \n",
        "  for e in A:\n",
        "    if e in B:\n",
        "      resp = False\n",
        "  return resp\n",
        "  #return (set(Y) == set(complemento(X)))\n"
      ],
      "execution_count": 49,
      "outputs": []
    },
    {
      "cell_type": "code",
      "metadata": {
        "colab": {
          "base_uri": "https://localhost:8080/"
        },
        "id": "KI5YF2tkrJJc",
        "outputId": "c531fdd0-5cde-4127-a8f8-3d837134870c"
      },
      "source": [
        "# Utilize este espaço para testar sua solução\n",
        "is_complemento(X, resposta)"
      ],
      "execution_count": 51,
      "outputs": [
        {
          "output_type": "execute_result",
          "data": {
            "text/plain": [
              "False"
            ]
          },
          "metadata": {
            "tags": []
          },
          "execution_count": 51
        }
      ]
    },
    {
      "cell_type": "markdown",
      "metadata": {
        "id": "vVNDgn2mrPAS"
      },
      "source": [
        "### Diferença (complemento relativo)"
      ]
    },
    {
      "cell_type": "markdown",
      "metadata": {
        "id": "gCIpHYOtrVVn"
      },
      "source": [
        "**Exercício 03:**\n",
        "\n",
        "Escreva uma função que retorne a diferença entre dois conjuntos (***A*** - ***B***):"
      ]
    },
    {
      "cell_type": "code",
      "metadata": {
        "id": "gsACAS90rkXw"
      },
      "source": [
        "def diferenca(A, B):\n",
        "  # escreva sua solução aqui\n",
        "   #return set(A)-set(B) \n",
        "   return set([i for i in A if i not in B])\n",
        "  "
      ],
      "execution_count": 60,
      "outputs": []
    },
    {
      "cell_type": "code",
      "metadata": {
        "id": "tkY_tskdrpeJ"
      },
      "source": [
        "# Utilize este espaço para testar sua solução\n",
        "d = diferenca(Z, X)"
      ],
      "execution_count": 64,
      "outputs": []
    },
    {
      "cell_type": "markdown",
      "metadata": {
        "id": "E7RXqdROrxMq"
      },
      "source": [
        "**Exercício 04:**\n",
        "\n",
        "Crie uma função que receba três conjuntos (***A***, ***B***, ***C***) como argumentos e retorne o valor True, caso o primeiro argumento (***A***) seja a diferença entre o segundo e o terceiro (***B***-***C***)."
      ]
    },
    {
      "cell_type": "code",
      "metadata": {
        "id": "vDiSGquFs_Ek"
      },
      "source": [
        "def is_diferenca(A, B, C):\n",
        "  # escreva sua solução aqui\n",
        "  # return A == diferenca(B, C)\n",
        "  # return set(A) == set(B)-set(C)\n",
        "  return A == set([i for i in B if i not in C])\n"
      ],
      "execution_count": 71,
      "outputs": []
    },
    {
      "cell_type": "code",
      "metadata": {
        "colab": {
          "base_uri": "https://localhost:8080/"
        },
        "id": "5GFQY_bWtDSN",
        "outputId": "2d0ba05c-0a5c-466d-fa1e-1cd625a21e0c"
      },
      "source": [
        "# Utilize este espaço para testar sua solução\n",
        "is_diferenca(Y, Z, X)"
      ],
      "execution_count": 73,
      "outputs": [
        {
          "output_type": "execute_result",
          "data": {
            "text/plain": [
              "False"
            ]
          },
          "metadata": {
            "tags": []
          },
          "execution_count": 73
        }
      ]
    },
    {
      "cell_type": "code",
      "metadata": {
        "id": "z2XCSW52HGHM"
      },
      "source": [
        ""
      ],
      "execution_count": null,
      "outputs": []
    }
  ]
}