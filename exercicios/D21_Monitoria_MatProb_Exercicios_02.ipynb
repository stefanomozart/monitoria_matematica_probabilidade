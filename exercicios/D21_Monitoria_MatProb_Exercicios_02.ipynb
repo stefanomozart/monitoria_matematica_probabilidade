{
  "nbformat": 4,
  "nbformat_minor": 0,
  "metadata": {
    "colab": {
      "name": "D21_Monitoria_MatProb_Exercicios_02",
      "provenance": [],
      "collapsed_sections": []
    },
    "kernelspec": {
      "name": "python3",
      "display_name": "Python 3"
    },
    "language_info": {
      "name": "python"
    }
  },
  "cells": [
    {
      "cell_type": "markdown",
      "metadata": {
        "id": "2tdhxTNah3s2"
      },
      "source": [
        "# D21 - Monitoria em Matemática e Probabilidade\n",
        "## Aula 02 - Conceitos fundamentais\n",
        "\n",
        "**Professor: Stefano Mozart**"
      ]
    },
    {
      "cell_type": "code",
      "metadata": {
        "id": "RZpmIsu_icpo"
      },
      "source": [
        "#@title Execute esta célula antes de iniciar a resolução dos exercícios\n",
        "#{display-mode: \"form\"}\n",
        "import sys\n",
        "\n",
        "def self_reference(f):\n",
        "  f.__defaults__ = f.__defaults__[:-1] + (f,)\n",
        "  return f\n",
        "\n",
        "def validate(func, test, input, output):\n",
        "  res = True\n",
        "  if input == None:    \n",
        "    if not equals(test(func()), output):\n",
        "      res = False\n",
        "      print(f'Resultado diferente do esperado.\\n')\n",
        "  else:\n",
        "    output = output if output != None else [True for e in input]\n",
        "    for i, o in zip(input, output):\n",
        "      j = func(*i)\n",
        "      if not equals(test(i, j), o):\n",
        "        res = False\n",
        "        print(f'Resultado diferente do esperado para a entrada {i}.\\n')\n",
        "  if hasattr(test, \"__t\") and test.__t == \"s\":\n",
        "    i = test.__I\n",
        "    if len(i) != len(set(i)) or (not set(i) == test.__C):\n",
        "      print(\"Erro na imagem da funçao\")\n",
        "      return\n",
        "  if res:\n",
        "    print(\"Parabéns\")\n",
        "\n",
        "@self_reference\n",
        "def teste(x, y, self=None):\n",
        "   if y not in self.__C:\n",
        "     return False\n",
        "   if y in self.__I:\n",
        "     return False\n",
        "   self.__I.append(y)\n",
        "   return True\n",
        "\n",
        "teste.__C = {y for y in range(1,11)}\n",
        "teste.__t=\"i\"\n",
        "\n",
        "def equals(a, b):\n",
        "  if type(a) == 'pandas.core.frame.DataFrame':    \n",
        "    return a.eq(b)  \n",
        "  return a == b\n"
      ],
      "execution_count": null,
      "outputs": []
    },
    {
      "cell_type": "markdown",
      "metadata": {
        "id": "KOfrX8uAn_sO"
      },
      "source": [
        "### Relações: $R \\subseteq {A \\times B}$"
      ]
    },
    {
      "cell_type": "markdown",
      "metadata": {
        "id": "b08D7gIUoGKd"
      },
      "source": [
        "**Exercício 01**: \n",
        "\n",
        "Escreva uma função que retorne o produto cartesiano entre dois conjuntos: $P = {A \\times B}$\n",
        "- Observação: a relação será representada em sua forma extensa, como um conjunto de tuplas: $P=\\{(a,b) : a \\in A \\land b \\in B\\}$\n",
        "- Exemplo: $\\{1,2\\} \\times \\{1\\} = \\{(1,1), (2,1)\\}$"
      ]
    },
    {
      "cell_type": "code",
      "metadata": {
        "id": "KW3ecqa9oV3O"
      },
      "source": [
        "def cartesiano(A, B):\n",
        "  # escreva sua solução aqui\n"
      ],
      "execution_count": null,
      "outputs": []
    },
    {
      "cell_type": "code",
      "metadata": {
        "id": "1CN8rSJnodxI"
      },
      "source": [
        "# Utilize este espaço para testar sua solução\n"
      ],
      "execution_count": null,
      "outputs": []
    },
    {
      "cell_type": "code",
      "metadata": {
        "id": "AbI99WCCFnF0"
      },
      "source": [
        "# Validação\n",
        "entradas = [[{1,2,3,4}, {2,3,4,5}], [[1,2,3,4], [1,2,3,4,5]]]\n",
        "saidas = [\n",
        "  {(1, 2), (1, 3), (1, 4), (1, 5), (2, 2), (2, 3), (2, 4), (2, 5), (3, 2), (3, 3), (3, 4), (3, 5), (4, 2), (4, 3), (4, 4), (4, 5)},\n",
        "  {(1, 1), (1, 2), (1, 3), (1, 4), (1, 5), (2, 1), (2, 2), (2, 3), (2, 4), (2, 5), (3, 1), (3, 2), (3, 3), (3, 4), (3, 5), (4, 1), (4, 2), (4, 3), (4, 4), (4, 5)}\n",
        "]\n",
        "validate(cartesiano, lambda x, y: y, entradas, saidas)"
      ],
      "execution_count": null,
      "outputs": []
    },
    {
      "cell_type": "markdown",
      "metadata": {
        "id": "IdbnVmy1p0XV"
      },
      "source": [
        "**Exercício 02**: \n",
        "\n",
        "Escreva uma função que teste se um conjunto $R$ de tuplas representa uma relação entre os conjuntos $A$ e $B$ - isto é, se $R \\subseteq {A \\times B}$.\n",
        "- Observação: a relação será representada em sua forma extensa, como um conjunto de tuplas. ex. $R$={(1,2), (2,3), (3,4)}"
      ]
    },
    {
      "cell_type": "code",
      "metadata": {
        "id": "Hoe6bsEdqSc5"
      },
      "source": [
        "def is_relacao(R, A, B):\n",
        "  # escreva sua solução aqui\n",
        "  "
      ],
      "execution_count": null,
      "outputs": []
    },
    {
      "cell_type": "code",
      "metadata": {
        "id": "KI5YF2tkrJJc"
      },
      "source": [
        "# Utilize este espaço para testar sua solução\n"
      ],
      "execution_count": null,
      "outputs": []
    },
    {
      "cell_type": "code",
      "metadata": {
        "id": "SY_C8qjiMyS3"
      },
      "source": [
        "# Validação\n",
        "entradas = [\n",
        "  [{(1,2),(2,3),(3,2)}, {1,2,3,4}, {2,3,4,5}],\n",
        "  [[(6,2),(2,3),(3,5)], [1,2,3,4], [2,3,4,5]],\n",
        "  [{(1,2),(2,7),(3,2)}, [1,2,3,4], [2,3,4,5]]\n",
        "]\n",
        "saidas = [True, False, False]\n",
        "validate(is_relacao, lambda x, y: y, entradas, saidas)"
      ],
      "execution_count": null,
      "outputs": []
    },
    {
      "cell_type": "markdown",
      "metadata": {
        "id": "gCIpHYOtrVVn"
      },
      "source": [
        "**Exercício 03:**\n",
        "\n",
        "Escreva uma função que teste se uma relação $R$ é serial: $(∀a \\in A [∃b \\in B : aRb])$:"
      ]
    },
    {
      "cell_type": "code",
      "metadata": {
        "id": "gsACAS90rkXw"
      },
      "source": [
        "def is_serial(R, A, B):\n",
        "  # escreva sua solução aqui\n",
        "  "
      ],
      "execution_count": null,
      "outputs": []
    },
    {
      "cell_type": "code",
      "metadata": {
        "id": "PcXURNB1Rm3C"
      },
      "source": [
        "# Utilize este espaço para testar sua solução\n"
      ],
      "execution_count": null,
      "outputs": []
    },
    {
      "cell_type": "code",
      "metadata": {
        "id": "8zsg4_0gRnJt"
      },
      "source": [
        "# Vaidação\n",
        "entradas = [\n",
        "  [{(1,2),(2,3),(3,2)}, {1,2,3}, {2,3,4,5}],\n",
        "  [[(6,2),(2,3),(3,5)], [1,2,3,4], [2,3,4,5]],\n",
        "  [{(1,2),(2,7),(3,2)}, [1,2,3,4], [2,3,4,5]]\n",
        "]\n",
        "saidas = [True, False, False]\n",
        "\n",
        "validate(is_serial, lambda x, y: y, entradas, saidas)"
      ],
      "execution_count": null,
      "outputs": []
    },
    {
      "cell_type": "markdown",
      "metadata": {
        "id": "E7RXqdROrxMq"
      },
      "source": [
        "**Exercício 04:**\n",
        "\n",
        "Escreva uma função que teste se uma relação $R$ é funcional: $\\forall a \\in A,  \\forall(b_i,b_j) \\in B[(aRb_i \\land aRb_j) \\rightarrow b_i=b_j]$"
      ]
    },
    {
      "cell_type": "code",
      "metadata": {
        "id": "vDiSGquFs_Ek"
      },
      "source": [
        "def is_funcional(R, A, B):\n",
        "  # escreva sua solução aqui\n",
        "  "
      ],
      "execution_count": null,
      "outputs": []
    },
    {
      "cell_type": "code",
      "metadata": {
        "id": "5GFQY_bWtDSN"
      },
      "source": [
        "# Utilize este espaço para testar sua solução\n",
        "is_funcional([[6,2],[2,3],[3,5]], [1,2,3,4], [2,3,4,5])"
      ],
      "execution_count": null,
      "outputs": []
    },
    {
      "cell_type": "code",
      "metadata": {
        "id": "z2XCSW52HGHM"
      },
      "source": [
        "# validacao\n",
        "entradas = [\n",
        "  [{(1,2),(2,3),(3,2)}, {1,2,3,4}, {2,3,4,5}],\n",
        "  [[(6,2),(2,3),(3,5)], [1,2,3,4], [2,3,4,5]],\n",
        "  [{(1,2),(2,3),(3,4)}, [1,2,3,4], [2,3,4,5]]\n",
        "]\n",
        "saidas = [True, False, True]\n",
        "validate(is_funcional, lambda x, y: y, entradas, saidas)"
      ],
      "execution_count": null,
      "outputs": []
    },
    {
      "cell_type": "markdown",
      "metadata": {
        "id": "xiVDJcSmT7o_"
      },
      "source": [
        "## Funções: $f:D\\rightarrow C$"
      ]
    },
    {
      "cell_type": "markdown",
      "metadata": {
        "id": "Sa7XLR5EVkvr"
      },
      "source": [
        "**Exercício 05**:\n",
        "Escreva uma função que teste se uma relação $f$ é uma função:\n",
        "\n",
        "- Dica: lembre-se que funções são relações seriais e funcionais;\n",
        "- A função será representada na forma extensa: $\\{(x,y): y=f(x)\\}$ "
      ]
    },
    {
      "cell_type": "code",
      "metadata": {
        "id": "tcJWoJqUVL0c"
      },
      "source": [
        "def is_funcao(f, A, B):\n",
        "  # escreva sua solução aqui\n",
        "  "
      ],
      "execution_count": null,
      "outputs": []
    },
    {
      "cell_type": "code",
      "metadata": {
        "id": "NjWRsq37V_fr"
      },
      "source": [
        "# Utilize este espaço para testar sua solução\n"
      ],
      "execution_count": null,
      "outputs": []
    },
    {
      "cell_type": "code",
      "metadata": {
        "id": "PADNhygGWTti"
      },
      "source": [
        "# Validação\n",
        "entradas = [\n",
        "  [{(1,2),(2,3),(3,2)}, {1,2,3}, {2,3,4,5}],\n",
        "  [[(6,2),(2,3),(3,5)], [1,2,3,4], [2,3,4,5]],\n",
        "  [{(1,2),(2,3),(3,4),(4,6)}, [1,2,3,4], [2,3,4,5,6]]\n",
        "]\n",
        "saidas = [True, False, True]\n",
        "\n",
        "validate(is_funcao, lambda x, y: y, entradas, saidas)"
      ],
      "execution_count": null,
      "outputs": []
    },
    {
      "cell_type": "markdown",
      "metadata": {
        "id": "5r7zIJiTXDeB"
      },
      "source": [
        "**Exercício 06:**\n",
        "Escreva uma função injetora com domínio = $D = \\{1,..,10\\}$ e contradomínio $C = \\{1,..,20\\}$. Isto é, a função deve retornar um único valor $y \\in C$ para todo valor $x \\in D$."
      ]
    },
    {
      "cell_type": "code",
      "metadata": {
        "id": "42J71Mq3YO6d"
      },
      "source": [
        "def injective(x):\n",
        "  # escreva sua solução aqui\n"
      ],
      "execution_count": null,
      "outputs": []
    },
    {
      "cell_type": "code",
      "metadata": {
        "id": "u8luk16pYgN9"
      },
      "source": [
        "# Utilize este espaço para testar sua solução\n"
      ],
      "execution_count": null,
      "outputs": []
    },
    {
      "cell_type": "code",
      "metadata": {
        "id": "eOcr59ZtYnU1"
      },
      "source": [
        "# Validação\n",
        "entradas = [[x] for x in range(1, 11)]\n",
        "teste.__I = []\n",
        "teste.__C = {y for y in range(1,21)}\n",
        "validate(injective, teste, entradas, None)"
      ],
      "execution_count": null,
      "outputs": []
    },
    {
      "cell_type": "markdown",
      "metadata": {
        "id": "Z2XWGPesbJ1g"
      },
      "source": [
        "**Exercício 07:**\n",
        "Escreva uma função bijetora $f:D\\rightarrow C$, com $D = C = \\{1,..,10\\}$:"
      ]
    },
    {
      "cell_type": "code",
      "metadata": {
        "id": "V0zI1uvzZSuk"
      },
      "source": [
        "def bijective(x):\n",
        "  # escreva sua solução aqui\n",
        "  "
      ],
      "execution_count": null,
      "outputs": []
    },
    {
      "cell_type": "code",
      "metadata": {
        "id": "IcDPmbyZbpl_"
      },
      "source": [
        "# Utilize este espaço para testar sua solução\n"
      ],
      "execution_count": null,
      "outputs": []
    },
    {
      "cell_type": "code",
      "metadata": {
        "id": "HMSeLxk6br3P"
      },
      "source": [
        "# Validação\n",
        "entradas = [[x] for x in range(1,11)]\n",
        "teste.__I = []\n",
        "teste.__C = {y for y in range(1,11)}\n",
        "teste.__t = \"s\"\n",
        "\n",
        "validate(bijective, teste, entradas, None)"
      ],
      "execution_count": null,
      "outputs": []
    },
    {
      "cell_type": "markdown",
      "metadata": {
        "id": "V2_GDKOQgQmn"
      },
      "source": [
        "**Exercício 08:**\n",
        "Escreva uma função que teste se uma função $f$, é injetora com domínio $D$ e contradomínio $C$:\n",
        "\n",
        "- Observação: nesse caso, $f$ é uma função Python que recebe um único argumento $x$ e retorna um resultado $y$"
      ]
    },
    {
      "cell_type": "code",
      "metadata": {
        "id": "ZYjrZT3Xf9tL"
      },
      "source": [
        "def is_injective(f, D, C):\n",
        "  # escreva sua solução aqui\n"
      ],
      "execution_count": null,
      "outputs": []
    },
    {
      "cell_type": "code",
      "metadata": {
        "id": "peZVNVg9gz4v"
      },
      "source": [
        "# Utilize este espaço para testar sua solução\n"
      ],
      "execution_count": null,
      "outputs": []
    },
    {
      "cell_type": "code",
      "metadata": {
        "id": "U3wWrL2-hGiF"
      },
      "source": [
        "# Validação\n",
        "D = C = {x for x in range(1,11)}\n",
        "entradas = [[(lambda x: x+20), D, C], [(lambda x: (x%10)+1), D, C], [(lambda x: x%10), D, C]]\n",
        "saidas = [False, True, False]\n",
        "validate(is_injective, lambda x, y: y, entradas, saidas)"
      ],
      "execution_count": null,
      "outputs": []
    },
    {
      "cell_type": "markdown",
      "metadata": {
        "id": "U5iGFtQ8g99t"
      },
      "source": [
        "Exercício 09: Escreva uma função teste se uma função $f$ é sobrejetora, com domínio $D$ e contradomínio $C$"
      ]
    },
    {
      "cell_type": "code",
      "metadata": {
        "id": "H2SPl-W8g7f8"
      },
      "source": [
        "def is_surjective(f, D, C):\n",
        "  # escreva sua solução aqui  \n",
        "  "
      ],
      "execution_count": null,
      "outputs": []
    },
    {
      "cell_type": "code",
      "metadata": {
        "id": "uqWBU2nKj2d4"
      },
      "source": [
        "# Utilize este espaço para testar sua solução\n"
      ],
      "execution_count": null,
      "outputs": []
    },
    {
      "cell_type": "code",
      "metadata": {
        "id": "UCk4hVLUj51f"
      },
      "source": [
        "# Validação\n",
        "D = {x for x in range(1,11)}\n",
        "C = {x for x in range(1,21)}\n",
        "entradas = [[lambda x: x, D, D], [lambda x: x+1, D, {x+1 for x in D}], [lambda x: x%10, D, D], [lambda x: (x%10)+1, C, D]]\n",
        "saidas = [True, True, False, True]\n",
        "\n",
        "validate(is_surjective, lambda x, y: y, entradas, saidas)"
      ],
      "execution_count": null,
      "outputs": []
    },
    {
      "cell_type": "markdown",
      "metadata": {
        "id": "SRFGSo0rlPd1"
      },
      "source": [
        "**Exercício 10:**\n",
        "Escreva uma função que teste se uma função $f$ é bijetora entre o domínio $D$ e o contradomínio $C$:"
      ]
    },
    {
      "cell_type": "code",
      "metadata": {
        "id": "D-Xq8X0Esxpd"
      },
      "source": [
        "def is_bijective(f, D, C):\n",
        "  # escreva sua solução aqui\n",
        "  "
      ],
      "execution_count": null,
      "outputs": []
    },
    {
      "cell_type": "code",
      "metadata": {
        "id": "XzwyvkXbsvqH"
      },
      "source": [
        "# Utilize este espaço para testar sua solução\n"
      ],
      "execution_count": null,
      "outputs": []
    },
    {
      "cell_type": "code",
      "metadata": {
        "id": "ymkQ3YublFIm"
      },
      "source": [
        "# Validação\n",
        "D = {x for x in range(1,11)}\n",
        "C = {x for x in range(1,21)}\n",
        "entradas = [[lambda x: x, D, D], [lambda x: x+1, D, {x+1 for x in D}], [lambda x: x%10, D, D], [lambda x: (x%10)+1, C, D]]\n",
        "saidas = [True, True, False, False]\n",
        "\n",
        "validate(is_bijective, lambda x, y: y, entradas, saidas)"
      ],
      "execution_count": null,
      "outputs": []
    }
  ]
}